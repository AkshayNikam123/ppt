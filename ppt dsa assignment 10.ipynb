{
 "cells": [
  {
   "cell_type": "markdown",
   "id": "b527a5f3",
   "metadata": {},
   "source": [
    "# **Question 1**\n",
    "\n",
    "Given an integer `n`, return *`true` if it is a power of three. Otherwise, return `false`*.\n",
    "\n",
    "An integer `n` is a power of three, if there exists an integer `x` such that `n == 3x`.\n",
    "\n",
    "**Example 1:**\n",
    "\n",
    "```\n",
    "Input: n = 27\n",
    "Output: true\n",
    "Explanation: 27 = 33\n",
    "```\n",
    "\n",
    "**Example 2:**\n",
    "\n",
    "```\n",
    "Input: n = 0\n",
    "Output: false\n",
    "Explanation: There is no x where 3x = 0.\n",
    "\n",
    "```\n",
    "\n",
    "**Example 3:**\n",
    "```\n",
    "Input: n = -1\n",
    "Output: false\n",
    "Explanation: There is no x where 3x = (-1).\n",
    "```"
   ]
  },
  {
   "cell_type": "code",
   "execution_count": 2,
   "id": "7fd627f2",
   "metadata": {},
   "outputs": [],
   "source": [
    "def is_power_of_three(n):\n",
    "    if n == 1:\n",
    "        return True\n",
    "    if n < 1 or n % 3 != 0:\n",
    "        return False\n",
    "    return is_power_of_three(n / 3)\n"
   ]
  },
  {
   "cell_type": "code",
   "execution_count": 5,
   "id": "c7494f3a",
   "metadata": {},
   "outputs": [
    {
     "name": "stdout",
     "output_type": "stream",
     "text": [
      "True\n",
      "False\n",
      "False\n"
     ]
    }
   ],
   "source": [
    "print(is_power_of_three(27))  \n",
    "print(is_power_of_three(0))   \n",
    "print(is_power_of_three(-1))"
   ]
  },
  {
   "cell_type": "markdown",
   "id": "6dcda8fc",
   "metadata": {},
   "source": [
    "# **Question 2**\n",
    "\n",
    "You have a list `arr` of all integers in the range `[1, n]` sorted in a strictly increasing order. Apply the following algorithm on `arr`:\n",
    "\n",
    "- Starting from left to right, remove the first number and every other number afterward until you reach the end of the list.\n",
    "- Repeat the previous step again, but this time from right to left, remove the rightmost number and every other number from the remaining numbers.\n",
    "- Keep repeating the steps again, alternating left to right and right to left, until a single number remains.\n",
    "\n",
    "Given the integer `n`, return *the last number that remains in* `arr`.\n",
    "\n",
    "**Example 1:**\n",
    "\n",
    "```\n",
    "Input: n = 9\n",
    "Output: 6\n",
    "Explanation:\n",
    "arr = [1, 2,3, 4,5, 6,7, 8,9]\n",
    "arr = [2,4, 6,8]\n",
    "arr = [2, 6]\n",
    "arr = [6]\n",
    "\n",
    "```\n",
    "\n",
    "**Example 2:**\n",
    "```\n",
    "Input: n = 1\n",
    "Output: 1\n",
    "\n",
    "```\n",
    "\n",
    "</aside>"
   ]
  },
  {
   "cell_type": "code",
   "execution_count": 6,
   "id": "b04f34d6",
   "metadata": {},
   "outputs": [],
   "source": [
    "def last_remaining_recursive(n):\n",
    "    def remove_elements(arr, direction):\n",
    "        if len(arr) == 1:\n",
    "            return arr[0]\n",
    "        if direction == 'left':\n",
    "            arr = arr[1::2]\n",
    "            direction = 'right'\n",
    "        else:\n",
    "            arr = arr[:-1:2]\n",
    "            direction = 'left'\n",
    "        return remove_elements(arr, direction)\n",
    "\n",
    "    arr = list(range(1, n + 1))\n",
    "    return remove_elements(arr, 'left')\n"
   ]
  },
  {
   "cell_type": "code",
   "execution_count": 22,
   "id": "5af39827",
   "metadata": {},
   "outputs": [
    {
     "name": "stdout",
     "output_type": "stream",
     "text": [
      "6\n",
      "1\n"
     ]
    }
   ],
   "source": [
    "print(last_remaining_recursive(9))  \n",
    "\n",
    "print(last_remaining_recursive(1))"
   ]
  },
  {
   "cell_type": "markdown",
   "id": "278ed564",
   "metadata": {},
   "source": [
    "# **Question 3**\n",
    "\n",
    "****Given a set represented as a string, write a recursive code to print all subsets of it. The subsets can be printed in any order.\n",
    "\n",
    "**Example 1:**\n",
    "\n",
    "Input :  set = “abc”\n",
    "\n",
    "Output : { “”, “a”, “b”, “c”, “ab”, “ac”, “bc”, “abc”}\n",
    "\n",
    "**Example 2:**\n",
    "\n",
    "Input : set = “abcd”\n",
    "\n",
    "Output : { “”, “a” ,”ab” ,”abc” ,”abcd”, “abd” ,”ac” ,”acd”, “ad” ,”b”, “bc” ,”bcd” ,”bd” ,”c” ,”cd” ,”d” }\n",
    "\n",
    "</aside>"
   ]
  },
  {
   "cell_type": "code",
   "execution_count": 9,
   "id": "4d642c5d",
   "metadata": {},
   "outputs": [
    {
     "name": "stdout",
     "output_type": "stream",
     "text": [
      "Subsets of abc:\n",
      "\n",
      "c\n",
      "b\n",
      "bc\n",
      "a\n",
      "ac\n",
      "ab\n",
      "abc\n",
      "\n",
      "Subsets of abcd:\n",
      "\n",
      "d\n",
      "c\n",
      "cd\n",
      "b\n",
      "bd\n",
      "bc\n",
      "bcd\n",
      "a\n",
      "ad\n",
      "ac\n",
      "acd\n",
      "ab\n",
      "abd\n",
      "abc\n",
      "abcd\n"
     ]
    }
   ],
   "source": [
    "def print_subsets(set_str, subset='', index=0):\n",
    "    # Base case: when index reaches the length of the string\n",
    "    if index == len(set_str):\n",
    "        print(subset)\n",
    "        return\n",
    "\n",
    "    # Recursive case 1: exclude the current character\n",
    "    print_subsets(set_str, subset, index + 1)\n",
    "\n",
    "    # Recursive case 2: include the current character\n",
    "    print_subsets(set_str, subset + set_str[index], index + 1)\n",
    "\n",
    "\n",
    "# Test the function\n",
    "set_str = \"abc\"\n",
    "print(\"Subsets of\", set_str + \":\")\n",
    "print_subsets(set_str)\n",
    "\n",
    "set_str = \"abcd\"\n",
    "print(\"\\nSubsets of\", set_str + \":\")\n",
    "print_subsets(set_str)\n"
   ]
  },
  {
   "cell_type": "markdown",
   "id": "f474ba8c",
   "metadata": {},
   "source": [
    "# **Question 4**\n",
    "\n",
    "Given a string calculate length of the string using recursion.\n",
    "\n",
    "**Examples:**\n",
    "```\n",
    "Input : str = \"abcd\"\n",
    "Output :4\n",
    "\n",
    "Input : str = \"GEEKSFORGEEKS\"\n",
    "Output :13\n",
    "\n",
    "```"
   ]
  },
  {
   "cell_type": "code",
   "execution_count": 12,
   "id": "6525f220",
   "metadata": {},
   "outputs": [
    {
     "name": "stdout",
     "output_type": "stream",
     "text": [
      "Length of string: 4\n",
      "Length of string: 13\n"
     ]
    }
   ],
   "source": [
    "def calculate_length(string):\n",
    "    # Base case: when the string is empty\n",
    "    if string == \"\":\n",
    "        return 0\n",
    "    # Recursive case: remove the first character and calculate the length of the remaining string\n",
    "    return 1 + calculate_length(string[1:])\n",
    "\n",
    "\n",
    "# Test the function\n",
    "string = \"abcd\"\n",
    "print(\"Length of string:\", calculate_length(string))\n",
    "\n",
    "string1 = \"GEEKSFORGEEKS\"\n",
    "print(\"Length of string:\", calculate_length(string1))"
   ]
  },
  {
   "cell_type": "markdown",
   "id": "ac7be5da",
   "metadata": {},
   "source": [
    "# **Question 5**\n",
    "\n",
    "We are given a string S, we need to find count of all contiguous substrings starting and ending with same character.\n",
    "\n",
    "**Examples :**\n",
    "```\n",
    "Input  : S = \"abcab\"\n",
    "Output : 7\n",
    "There are 15 substrings of \"abcab\"\n",
    "a, ab, abc, abca, abcab, b, bc, bca\n",
    "bcab, c, ca, cab, a, ab, b\n",
    "Out of the above substrings, there\n",
    "are 7 substrings : a, abca, b, bcab,\n",
    "c, a and b.\n",
    "\n",
    "Input  : S = \"aba\"\n",
    "Output : 4\n",
    "The substrings are a, b, a and aba\n",
    "\n",
    "```"
   ]
  },
  {
   "cell_type": "code",
   "execution_count": 15,
   "id": "7b0c0e9e",
   "metadata": {},
   "outputs": [
    {
     "name": "stdout",
     "output_type": "stream",
     "text": [
      "Count of contiguous substrings: 7\n",
      "Count of contiguous substrings: 4\n"
     ]
    }
   ],
   "source": [
    "def count_contiguous_substrings(s):\n",
    "    count = 0\n",
    "    n = len(s)\n",
    "\n",
    "    # Iterate through each character of the string\n",
    "    for i in range(n):\n",
    "        # For each character, check all possible substrings starting from that character\n",
    "        for j in range(i, n):\n",
    "            # If the substring starts and ends with the same character, increment the count\n",
    "            if s[i] == s[j]:\n",
    "                count += 1\n",
    "\n",
    "    return count\n",
    "\n",
    "\n",
    "# Test the function\n",
    "s = \"abcab\"\n",
    "print(\"Count of contiguous substrings:\", count_contiguous_substrings(s))\n",
    "\n",
    "s = \"aba\"\n",
    "print(\"Count of contiguous substrings:\", count_contiguous_substrings(s))\n"
   ]
  },
  {
   "cell_type": "markdown",
   "id": "b8ecb32d",
   "metadata": {},
   "source": [
    "# **Question 6**\n",
    "\n",
    "The [tower of Hanoi](https://en.wikipedia.org/wiki/Tower_of_Hanoi) is a famous puzzle where we have three rods and **N** disks. The objective of the puzzle is to move the entire stack to another rod. You are given the number of discs **N**. Initially, these discs are in the rod 1. You need to print all the steps of discs movement so that all the discs reach the 3rd rod. Also, you need to find the total moves.**Note:** The discs are arranged such that the **top disc is numbered 1** and the **bottom-most disc is numbered N**. Also, all the discs have **different sizes** and a bigger disc **cannot** be put on the top of a smaller disc. Refer the provided link to get a better clarity about the puzzle.\n",
    "\n",
    "```\n",
    "Input:\n",
    "N = 2\n",
    "Output:\n",
    "move disk 1 from rod 1 to rod 2\n",
    "move disk 2 from rod 1 to rod 3\n",
    "move disk 1 from rod 2 to rod 3\n",
    "3\n",
    "Explanation:For N=2 , steps will be\n",
    "as follows in the example and total\n",
    "3 steps will be taken.\n",
    "\n",
    "Input:\n",
    "N = 3\n",
    "Output:\n",
    "move disk 1 from rod 1 to rod 3\n",
    "move disk 2 from rod 1 to rod 2\n",
    "move disk 1 from rod 3 to rod 2\n",
    "move disk 3 from rod 1 to rod 3\n",
    "move disk 1 from rod 2 to rod 1\n",
    "move disk 2 from rod 2 to rod 3\n",
    "move disk 1 from rod 1 to rod 3\n",
    "7\n",
    "Explanation:For N=3 , steps will be\n",
    "as follows in the example and total\n",
    "7 steps will be taken.\n",
    "```"
   ]
  },
  {
   "cell_type": "code",
   "execution_count": 17,
   "id": "3c544515",
   "metadata": {},
   "outputs": [
    {
     "name": "stdout",
     "output_type": "stream",
     "text": [
      "Steps to solve the Tower of Hanoi:\n",
      "Move disk 1 from rod 1 to rod 2\n",
      "Move disk 2 from rod 1 to rod 3\n",
      "Move disk 1 from rod 2 to rod 3\n",
      "Total moves: 3\n"
     ]
    }
   ],
   "source": [
    "def tower_of_hanoi(n, source, destination, auxiliary):\n",
    "    if n == 1:\n",
    "        print(\"Move disk\", n, \"from rod\", source, \"to rod\", destination)\n",
    "        return 1\n",
    "\n",
    "    # Move n-1 disks from source to auxiliary rod\n",
    "    count1 = tower_of_hanoi(n - 1, source, auxiliary, destination)\n",
    "\n",
    "    # Move the largest disk from source to destination rod\n",
    "    print(\"Move disk\", n, \"from rod\", source, \"to rod\", destination)\n",
    "    count2 = 1\n",
    "\n",
    "    # Move the n-1 disks from auxiliary rod to destination rod\n",
    "    count3 = tower_of_hanoi(n - 1, auxiliary, destination, source)\n",
    "\n",
    "    # Calculate the total number of moves\n",
    "    total_moves = count1 + count2 + count3\n",
    "    return total_moves\n",
    "\n",
    "\n",
    "# Test the function\n",
    "N = 2\n",
    "source_rod = 1\n",
    "destination_rod = 3\n",
    "auxiliary_rod = 2\n",
    "\n",
    "print(\"Steps to solve the Tower of Hanoi:\")\n",
    "total_moves = tower_of_hanoi(N, source_rod, destination_rod, auxiliary_rod)\n",
    "print(\"Total moves:\", total_moves)\n"
   ]
  },
  {
   "cell_type": "markdown",
   "id": "8c12f663",
   "metadata": {},
   "source": [
    "# **Question 7**\n",
    "\n",
    "Given a string **str**, the task is to print all the permutations of **str**. A **permutation** is an arrangement of all or part of a set of objects, with regard to the order of the arrangement. For instance, the words ‘bat’ and ‘tab’ represents two distinct permutation (or arrangements) of a similar three letter word.\n",
    "\n",
    "**Examples:**\n",
    "\n",
    "> Input: str = “cd”\n",
    "> \n",
    "> \n",
    "> **Output:** cd dc\n",
    "> \n",
    "> **Input:** str = “abb”\n",
    "> \n",
    "> **Output:** abb abb bab bba bab bba\n",
    "> \n",
    "</aside>"
   ]
  },
  {
   "cell_type": "code",
   "execution_count": 20,
   "id": "73c0f14d",
   "metadata": {},
   "outputs": [
    {
     "name": "stdout",
     "output_type": "stream",
     "text": [
      "Permutations of cd:\n",
      "cd\n",
      "dc\n",
      "Permutations of abb:\n",
      "abb\n",
      "abb\n",
      "bab\n",
      "bba\n",
      "bba\n",
      "bab\n"
     ]
    }
   ],
   "source": [
    "def permute(s, left, right):\n",
    "    if left == right:\n",
    "        print(\"\".join(s))\n",
    "    else:\n",
    "        for i in range(left, right + 1):\n",
    "            # Swap the characters at positions left and i\n",
    "            s[left], s[i] = s[i], s[left]\n",
    "            \n",
    "            # Recursively generate permutations for the remaining string\n",
    "            permute(s, left + 1, right)\n",
    "            \n",
    "            # Restore the original order by swapping back the characters\n",
    "            s[left], s[i] = s[i], s[left]\n",
    "\n",
    "\n",
    "# Test the function\n",
    "str = \"cd\"\n",
    "n = len(str)\n",
    "s = list(str)\n",
    "\n",
    "print(\"Permutations of\", str + \":\")\n",
    "permute(s, 0, n - 1)\n",
    "\n",
    "str1= \"abb\"\n",
    "n = len(str1)\n",
    "s = list(str1)\n",
    "\n",
    "print(\"Permutations of\", str1 + \":\")\n",
    "permute(s, 0, n - 1)\n"
   ]
  },
  {
   "cell_type": "markdown",
   "id": "406654c3",
   "metadata": {},
   "source": [
    "# **Question 8**\n",
    "\n",
    "Given a string, count total number of consonants in it. A consonant is an English alphabet character that is not vowel (a, e, i, o and u). Examples of constants are b, c, d, f, and g.\n",
    "\n",
    "**Examples :**\n",
    "\n",
    "Input : abc de\n",
    "Output : 3\n",
    "There are three consonants b, c and d.\n",
    "\n",
    "Input : geeksforgeeks portal\n",
    "Output : 12"
   ]
  },
  {
   "cell_type": "code",
   "execution_count": 21,
   "id": "e8482cde",
   "metadata": {},
   "outputs": [
    {
     "name": "stdout",
     "output_type": "stream",
     "text": [
      "Total number of consonants in abc de: 3\n",
      "Total number of consonants in geeksforgeeks portal: 12\n"
     ]
    }
   ],
   "source": [
    "def count_consonants(string):\n",
    "    consonants = \"bcdfghjklmnpqrstvwxyzBCDFGHJKLMNPQRSTVWXYZ\"\n",
    "    count = 0\n",
    "    for char in string:\n",
    "        if char in consonants:\n",
    "            count += 1\n",
    "    return count\n",
    "\n",
    "\n",
    "# Test the function\n",
    "string1 = \"abc de\"\n",
    "print(\"Total number of consonants in\", string1 + \":\", count_consonants(string1))\n",
    "\n",
    "string2 = \"geeksforgeeks portal\"\n",
    "print(\"Total number of consonants in\", string2 + \":\", count_consonants(string2))\n"
   ]
  },
  {
   "cell_type": "code",
   "execution_count": null,
   "id": "feab3aa7",
   "metadata": {},
   "outputs": [],
   "source": []
  }
 ],
 "metadata": {
  "kernelspec": {
   "display_name": "Python 3 (ipykernel)",
   "language": "python",
   "name": "python3"
  },
  "language_info": {
   "codemirror_mode": {
    "name": "ipython",
    "version": 3
   },
   "file_extension": ".py",
   "mimetype": "text/x-python",
   "name": "python",
   "nbconvert_exporter": "python",
   "pygments_lexer": "ipython3",
   "version": "3.9.7"
  }
 },
 "nbformat": 4,
 "nbformat_minor": 5
}
