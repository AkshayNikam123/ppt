{
 "cells": [
  {
   "cell_type": "markdown",
   "id": "968a05e7",
   "metadata": {},
   "source": [
    "#  1. **Merge Intervals**\n",
    "\n",
    "Given an array of `intervals` where `intervals[i] = [starti, endi]`, merge all overlapping intervals, and return *an array of the non-overlapping intervals that cover all the intervals in the input*.\n",
    "\n",
    "**Example 1:**\n",
    "\n",
    "```\n",
    "Input: intervals = [[1,3],[2,6],[8,10],[15,18]]\n",
    "Output: [[1,6],[8,10],[15,18]]\n",
    "Explanation: Since intervals [1,3] and [2,6] overlap, merge them into [1,6].\n",
    "\n",
    "```\n",
    "\n",
    "**Example 2:**\n",
    "\n",
    "```\n",
    "Input: intervals = [[1,4],[4,5]]\n",
    "Output: [[1,5]]\n",
    "Explanation: Intervals [1,4] and [4,5] are considered overlapping.\n",
    "\n",
    "```\n",
    "\n",
    "**Constraints:**\n",
    "\n",
    "- `1 <= intervals.length <= 10000`\n",
    "- `intervals[i].length == 2`\n",
    "- `0 <= starti <= endi <= 10000`\n",
    "</aside>"
   ]
  },
  {
   "cell_type": "code",
   "execution_count": 3,
   "id": "8acc6a6c",
   "metadata": {},
   "outputs": [],
   "source": [
    "def mergeIntervals(intervals):\n",
    "    intervals.sort(key=lambda x: x[0])  # Sort intervals based on start times\n",
    "    merged = [intervals[0]]  # Initialize merged intervals with the first interval\n",
    "\n",
    "    for interval in intervals[1:]:\n",
    "        if interval[0] <= merged[-1][1]:  # Check for overlap\n",
    "            merged[-1][1] = max(merged[-1][1], interval[1])  # Merge overlapping intervals\n",
    "        else:\n",
    "            merged.append(interval)  # Add non-overlapping interval to merged list\n",
    "\n",
    "    return merged\n"
   ]
  },
  {
   "cell_type": "code",
   "execution_count": 4,
   "id": "3a922bc5",
   "metadata": {},
   "outputs": [
    {
     "name": "stdout",
     "output_type": "stream",
     "text": [
      "[[1, 6], [8, 10], [15, 18]]\n",
      "[[1, 5]]\n"
     ]
    }
   ],
   "source": [
    "intervals1 = [[1, 3], [2, 6], [8, 10], [15, 18]]\n",
    "print(mergeIntervals(intervals1))  # Output: [[1, 6], [8, 10], [15, 18]]\n",
    "\n",
    "intervals2 = [[1, 4], [4, 5]]\n",
    "print(mergeIntervals(intervals2))  # Output: [[1, 5]]\n"
   ]
  },
  {
   "cell_type": "markdown",
   "id": "c1eff0cb",
   "metadata": {},
   "source": [
    "#  2. **Sort Colors**\n",
    "\n",
    "Given an array `nums` with `n` objects colored red, white, or blue, sort them **[in-place](https://en.wikipedia.org/wiki/In-place_algorithm)** so that objects of the same color are adjacent, with the colors in the order red, white, and blue.\n",
    "\n",
    "We will use the integers `0`, `1`, and `2` to represent the color red, white, and blue, respectively.\n",
    "\n",
    "You must solve this problem without using the library's sort function.\n",
    "\n",
    "**Example 1:**\n",
    "\n",
    "```\n",
    "Input: nums = [2,0,2,1,1,0]\n",
    "Output: [0,0,1,1,2,2]\n",
    "\n",
    "```\n",
    "\n",
    "**Example 2:**\n",
    "\n",
    "```\n",
    "Input: nums = [2,0,1]\n",
    "Output: [0,1,2]\n",
    "\n",
    "```\n",
    "\n",
    "**Constraints:**\n",
    "\n",
    "- `n == nums.length`\n",
    "- `1 <= n <= 300`\n",
    "- `nums[i]` is either `0`, `1`, or `2`.\n",
    "</aside>"
   ]
  },
  {
   "cell_type": "code",
   "execution_count": 5,
   "id": "e1962ce8",
   "metadata": {},
   "outputs": [],
   "source": [
    "def sortColors(nums):\n",
    "    red, white, blue = 0, 0, len(nums) - 1\n",
    "\n",
    "    while white <= blue:\n",
    "        if nums[white] == 0:  # Red\n",
    "            nums[red], nums[white] = nums[white], nums[red]\n",
    "            red += 1\n",
    "            white += 1\n",
    "        elif nums[white] == 1:  # White\n",
    "            white += 1\n",
    "        else:  # Blue\n",
    "            nums[white], nums[blue] = nums[blue], nums[white]\n",
    "            blue -= 1\n",
    "\n",
    "    return nums\n"
   ]
  },
  {
   "cell_type": "code",
   "execution_count": 6,
   "id": "aba1d5de",
   "metadata": {},
   "outputs": [
    {
     "name": "stdout",
     "output_type": "stream",
     "text": [
      "[0, 0, 1, 1, 2, 2]\n",
      "[0, 1, 2]\n"
     ]
    }
   ],
   "source": [
    "nums1 = [2, 0, 2, 1, 1, 0]\n",
    "print(sortColors(nums1))  # Output: [0, 0, 1, 1, 2, 2]\n",
    "\n",
    "nums2 = [2, 0, 1]\n",
    "print(sortColors(nums2))  # Output: [0, 1, 2]\n"
   ]
  },
  {
   "cell_type": "markdown",
   "id": "c8ebe0af",
   "metadata": {},
   "source": [
    "# 3. **First Bad Version Solution**\n",
    "\n",
    "You are a product manager and currently leading a team to develop a new product. Unfortunately, the latest version of your product fails the quality check. Since each version is developed based on the previous version, all the versions after a bad version are also bad.\n",
    "\n",
    "Suppose you have `n` versions `[1, 2, ..., n]` and you want to find out the first bad one, which causes all the following ones to be bad.\n",
    "\n",
    "You are given an API `bool isBadVersion(version)` which returns whether `version` is bad. Implement a function to find the first bad version. You should minimize the number of calls to the API.\n",
    "\n",
    "**Example 1:**\n",
    "\n",
    "```\n",
    "Input: n = 5, bad = 4\n",
    "Output: 4\n",
    "Explanation:\n",
    "call isBadVersion(3) -> false\n",
    "call isBadVersion(5) -> true\n",
    "call isBadVersion(4) -> true\n",
    "Then 4 is the first bad version.\n",
    "\n",
    "```\n",
    "\n",
    "**Example 2:**\n",
    "\n",
    "```\n",
    "Input: n = 1, bad = 1\n",
    "Output: 1\n",
    "\n",
    "```\n",
    "\n",
    "**Constraints:**\n",
    "\n",
    "- `1 <= bad <= n <= 2^31 - 1`\n",
    "</aside>"
   ]
  },
  {
   "cell_type": "code",
   "execution_count": 7,
   "id": "5b245a1e",
   "metadata": {},
   "outputs": [],
   "source": [
    "def isBadVersion(version):\n",
    "    # Placeholder function for the API\n",
    "    pass\n",
    "\n",
    "def firstBadVersion(n):\n",
    "    left, right = 1, n\n",
    "\n",
    "    while left < right:\n",
    "        mid = left + (right - left) // 2\n",
    "        if isBadVersion(mid):\n",
    "            right = mid\n",
    "        else:\n",
    "            left = mid + 1\n",
    "\n",
    "    return left\n"
   ]
  },
  {
   "cell_type": "code",
   "execution_count": 8,
   "id": "6b7ddd9c",
   "metadata": {},
   "outputs": [
    {
     "name": "stdout",
     "output_type": "stream",
     "text": [
      "4\n",
      "1\n"
     ]
    }
   ],
   "source": [
    "def isBadVersion(version):\n",
    "    return version >= 4  # Placeholder implementation\n",
    "\n",
    "n1, bad1 = 5, 4\n",
    "print(firstBadVersion(n1))  # Output: 4\n",
    "\n",
    "n2, bad2 = 1, 1\n",
    "print(firstBadVersion(n2))  # Output: 1\n"
   ]
  },
  {
   "cell_type": "markdown",
   "id": "c8be8238",
   "metadata": {},
   "source": [
    "# 4. **Maximum Gap**\n",
    "\n",
    "Given an integer array `nums`, return *the maximum difference between two successive elements in its sorted form*. If the array contains less than two elements, return `0`.\n",
    "\n",
    "You must write an algorithm that runs in linear time and uses linear extra space.\n",
    "\n",
    "**Example 1:**\n",
    "\n",
    "```\n",
    "Input: nums = [3,6,9,1]\n",
    "Output: 3\n",
    "Explanation: The sorted form of the array is [1,3,6,9], either (3,6) or (6,9) has the maximum difference 3.\n",
    "\n",
    "```\n",
    "\n",
    "**Example 2:**\n",
    "\n",
    "```\n",
    "Input: nums = [10]\n",
    "Output: 0\n",
    "Explanation: The array contains less than 2 elements, therefore return 0.\n",
    "\n",
    "```\n",
    "\n",
    "**Constraints:**\n",
    "\n",
    "- `1 <= nums.length <= 10^5`\n",
    "- `0 <= nums[i] <= 10^9`\n",
    "</aside>"
   ]
  },
  {
   "cell_type": "code",
   "execution_count": 9,
   "id": "13f70c68",
   "metadata": {},
   "outputs": [],
   "source": [
    "def maximumGap(nums):\n",
    "    if len(nums) < 2:\n",
    "        return 0\n",
    "\n",
    "    # Find the minimum and maximum values in the array\n",
    "    min_num, max_num = min(nums), max(nums)\n",
    "    if min_num == max_num:\n",
    "        return 0\n",
    "\n",
    "    # Calculate the size of each bucket\n",
    "    bucket_size = max(1, (max_num - min_num) // (len(nums) - 1))\n",
    "\n",
    "    # Calculate the number of buckets needed\n",
    "    num_buckets = (max_num - min_num) // bucket_size + 1\n",
    "\n",
    "    # Initialize the buckets\n",
    "    buckets = [[float('inf'), float('-inf')] for _ in range(num_buckets)]\n",
    "\n",
    "    # Assign each element to its respective bucket\n",
    "    for num in nums:\n",
    "        index = (num - min_num) // bucket_size\n",
    "        buckets[index][0] = min(buckets[index][0], num)\n",
    "        buckets[index][1] = max(buckets[index][1], num)\n",
    "\n",
    "    # Calculate the maximum gap\n",
    "    max_gap = 0\n",
    "    prev_max = min_num\n",
    "\n",
    "    for bucket in buckets:\n",
    "        if bucket[0] == float('inf') and bucket[1] == float('-inf'):\n",
    "            # Skip empty buckets\n",
    "            continue\n",
    "        max_gap = max(max_gap, bucket[0] - prev_max)\n",
    "        prev_max = bucket[1]\n",
    "\n",
    "    return max_gap\n"
   ]
  },
  {
   "cell_type": "code",
   "execution_count": 10,
   "id": "6e98ba1b",
   "metadata": {},
   "outputs": [
    {
     "name": "stdout",
     "output_type": "stream",
     "text": [
      "3\n",
      "0\n"
     ]
    }
   ],
   "source": [
    "nums1 = [3, 6, 9, 1]\n",
    "print(maximumGap(nums1))  # Output: 3\n",
    "\n",
    "nums2 = [10]\n",
    "print(maximumGap(nums2))  # Output: 0\n"
   ]
  },
  {
   "cell_type": "markdown",
   "id": "3e0ae010",
   "metadata": {},
   "source": [
    "#  5. **Contains Duplicate**\n",
    "\n",
    "Given an integer array `nums`, return `true` if any value appears **at least twice** in the array, and return `false` if every element is distinct.\n",
    "\n",
    "**Example 1:**\n",
    "\n",
    "```\n",
    "Input: nums = [1,2,3,1]\n",
    "Output: true\n",
    "\n",
    "```\n",
    "\n",
    "**Example 2:**\n",
    "\n",
    "```\n",
    "Input: nums = [1,2,3,4]\n",
    "Output: false\n",
    "\n",
    "```\n",
    "\n",
    "**Example 3:**\n",
    "\n",
    "```\n",
    "Input: nums = [1,1,1,3,3,4,3,2,4,2]\n",
    "Output: true\n",
    "\n",
    "```\n",
    "\n",
    "**Constraints:**\n",
    "\n",
    "- `1 <= nums.length <= 10^5`\n",
    "- `109 <= nums[i] <= 10^9`\n",
    "</aside>"
   ]
  },
  {
   "cell_type": "code",
   "execution_count": 11,
   "id": "71b3491e",
   "metadata": {},
   "outputs": [],
   "source": [
    "def containsDuplicate(nums):\n",
    "    # Create an empty set to store unique values\n",
    "    unique_set = set()\n",
    "\n",
    "    # Iterate through each element in the array\n",
    "    for num in nums:\n",
    "        # If the element is already in the set, it is a duplicate\n",
    "        if num in unique_set:\n",
    "            return True\n",
    "        # Add the element to the set\n",
    "        unique_set.add(num)\n",
    "\n",
    "    # No duplicates found\n",
    "    return False\n"
   ]
  },
  {
   "cell_type": "code",
   "execution_count": 12,
   "id": "40ebdd16",
   "metadata": {},
   "outputs": [
    {
     "name": "stdout",
     "output_type": "stream",
     "text": [
      "True\n",
      "False\n",
      "True\n"
     ]
    }
   ],
   "source": [
    "nums1 = [1, 2, 3, 1]\n",
    "print(containsDuplicate(nums1))  # Output: True\n",
    "\n",
    "nums2 = [1, 2, 3, 4]\n",
    "print(containsDuplicate(nums2))  # Output: False\n",
    "\n",
    "nums3 = [1, 1, 1, 3, 3, 4, 3, 2, 4, 2]\n",
    "print(containsDuplicate(nums3))  # Output: True\n"
   ]
  },
  {
   "cell_type": "markdown",
   "id": "dc10a927",
   "metadata": {},
   "source": [
    "#  6. **Minimum Number of Arrows to Burst Balloons**\n",
    "\n",
    "There are some spherical balloons taped onto a flat wall that represents the XY-plane. The balloons are represented as a 2D integer array `points` where `points[i] = [xstart, xend]` denotes a balloon whose **horizontal diameter** stretches between `xstart` and `xend`. You do not know the exact y-coordinates of the balloons.\n",
    "\n",
    "Arrows can be shot up **directly vertically** (in the positive y-direction) from different points along the x-axis. A balloon with `xstart` and `xend` is **burst** by an arrow shot at `x` if `xstart <= x <= xend`. There is **no limit** to the number of arrows that can be shot. A shot arrow keeps traveling up infinitely, bursting any balloons in its path.\n",
    "\n",
    "Given the array `points`, return *the **minimum** number of arrows that must be shot to burst all balloons*.\n",
    "\n",
    "**Example 1:**\n",
    "\n",
    "```\n",
    "Input: points = [[10,16],[2,8],[1,6],[7,12]]\n",
    "Output: 2\n",
    "Explanation: The balloons can be burst by 2 arrows:\n",
    "- Shoot an arrow at x = 6, bursting the balloons [2,8] and [1,6].\n",
    "- Shoot an arrow at x = 11, bursting the balloons [10,16] and [7,12].\n",
    "\n",
    "```\n",
    "\n",
    "**Example 2:**\n",
    "\n",
    "```\n",
    "Input: points = [[1,2],[3,4],[5,6],[7,8]]\n",
    "Output: 4\n",
    "Explanation: One arrow needs to be shot for each balloon for a total of 4 arrows.\n",
    "\n",
    "```\n",
    "\n",
    "**Example 3:**\n",
    "\n",
    "```\n",
    "Input: points = [[1,2],[2,3],[3,4],[4,5]]\n",
    "Output: 2\n",
    "Explanation: The balloons can be burst by 2 arrows:\n",
    "- Shoot an arrow at x = 2, bursting the balloons [1,2] and [2,3].\n",
    "- Shoot an arrow at x = 4, bursting the balloons [3,4] and [4,5].\n",
    "\n",
    "```\n",
    "\n",
    "**Constraints:**\n",
    "\n",
    "- `1 <= points.length <= 10^5`\n",
    "- `points[i].length == 2`\n",
    "- `231 <= xstart < xend <= 2^31 - 1`\n",
    "</aside>"
   ]
  },
  {
   "cell_type": "code",
   "execution_count": 13,
   "id": "bf87f4b2",
   "metadata": {},
   "outputs": [],
   "source": [
    "def findMinArrowShots(points):\n",
    "    # Sort the balloons based on the end coordinate\n",
    "    points.sort(key=lambda x: x[1])\n",
    "\n",
    "    # Initialize the number of arrows and the end coordinate of the first balloon\n",
    "    arrows = 1\n",
    "    end = points[0][1]\n",
    "\n",
    "    # Iterate through the remaining balloons\n",
    "    for i in range(1, len(points)):\n",
    "        # If the current balloon starts after the end coordinate,\n",
    "        # increment the number of arrows and update the end coordinate\n",
    "        if points[i][0] > end:\n",
    "            arrows += 1\n",
    "            end = points[i][1]\n",
    "\n",
    "    # Return the minimum number of arrows needed\n",
    "    return arrows\n"
   ]
  },
  {
   "cell_type": "code",
   "execution_count": 14,
   "id": "20caf715",
   "metadata": {},
   "outputs": [
    {
     "name": "stdout",
     "output_type": "stream",
     "text": [
      "2\n",
      "4\n",
      "2\n"
     ]
    }
   ],
   "source": [
    "points1 = [[10, 16], [2, 8], [1, 6], [7, 12]]\n",
    "print(findMinArrowShots(points1))  # Output: 2\n",
    "\n",
    "points2 = [[1, 2], [3, 4], [5, 6], [7, 8]]\n",
    "print(findMinArrowShots(points2))  # Output: 4\n",
    "\n",
    "points3 = [[1, 2], [2, 3], [3, 4], [4, 5]]\n",
    "print(findMinArrowShots(points3))  # Output: 2\n"
   ]
  },
  {
   "cell_type": "markdown",
   "id": "45525625",
   "metadata": {},
   "source": [
    "#  7. **Longest Increasing Subsequence**\n",
    "\n",
    "Given an integer array `nums`, return *the length of the longest **strictly increasing***\n",
    "\n",
    "***subsequence***\n",
    "\n",
    ".\n",
    "\n",
    "**Example 1:**\n",
    "\n",
    "```\n",
    "Input: nums = [10,9,2,5,3,7,101,18]\n",
    "Output: 4\n",
    "Explanation: The longest increasing subsequence is [2,3,7,101], therefore the length is 4.\n",
    "\n",
    "```\n",
    "\n",
    "**Example 2:**\n",
    "\n",
    "```\n",
    "Input: nums = [0,1,0,3,2,3]\n",
    "Output: 4\n",
    "\n",
    "```\n",
    "\n",
    "**Example 3:**\n",
    "\n",
    "```\n",
    "Input: nums = [7,7,7,7,7,7,7]\n",
    "Output: 1\n",
    "\n",
    "```\n",
    "\n",
    "**Constraints:**\n",
    "\n",
    "- `1 <= nums.length <= 2500`\n",
    "- `-10^4 <= nums[i] <= 10^4`\n",
    "</aside>"
   ]
  },
  {
   "cell_type": "code",
   "execution_count": 15,
   "id": "c5baed44",
   "metadata": {},
   "outputs": [],
   "source": [
    "def lengthOfLIS(nums):\n",
    "    # Base case: if the array is empty, the length of the LIS is 0\n",
    "    if not nums:\n",
    "        return 0\n",
    "\n",
    "    # Initialize an array to store the lengths of the LIS\n",
    "    dp = [1] * len(nums)\n",
    "\n",
    "    # Iterate through the array starting from the second element\n",
    "    for i in range(1, len(nums)):\n",
    "        # Compare the current element with all previous elements\n",
    "        for j in range(i):\n",
    "            # If the current element is greater than the previous element,\n",
    "            # update the length of the LIS at the current position\n",
    "            if nums[i] > nums[j]:\n",
    "                dp[i] = max(dp[i], dp[j] + 1)\n",
    "\n",
    "    # Return the maximum length of the LIS\n",
    "    return max(dp)\n"
   ]
  },
  {
   "cell_type": "code",
   "execution_count": 16,
   "id": "098eb485",
   "metadata": {},
   "outputs": [
    {
     "name": "stdout",
     "output_type": "stream",
     "text": [
      "4\n",
      "4\n",
      "1\n"
     ]
    }
   ],
   "source": [
    "nums1 = [10, 9, 2, 5, 3, 7, 101, 18]\n",
    "print(lengthOfLIS(nums1))  # Output: 4\n",
    "\n",
    "nums2 = [0, 1, 0, 3, 2, 3]\n",
    "print(lengthOfLIS(nums2))  # Output: 4\n",
    "\n",
    "nums3 = [7, 7, 7, 7, 7, 7, 7]\n",
    "print(lengthOfLIS(nums3))  # Output: 1\n"
   ]
  },
  {
   "cell_type": "markdown",
   "id": "7656277b",
   "metadata": {},
   "source": [
    "#  8. **132 Pattern**\n",
    "\n",
    "Given an array of `n` integers `nums`, a **132 pattern** is a subsequence of three integers `nums[i]`, `nums[j]` and `nums[k]` such that `i < j < k` and `nums[i] < nums[k] < nums[j]`.\n",
    "\n",
    "Return `true` *if there is a **132 pattern** in* `nums`*, otherwise, return* `false`*.*\n",
    "\n",
    "**Example 1:**\n",
    "\n",
    "```\n",
    "Input: nums = [1,2,3,4]\n",
    "Output: false\n",
    "Explanation: There is no 132 pattern in the sequence.\n",
    "\n",
    "```\n",
    "\n",
    "**Example 2:**\n",
    "\n",
    "```\n",
    "Input: nums = [3,1,4,2]\n",
    "Output: true\n",
    "Explanation: There is a 132 pattern in the sequence: [1, 4, 2].\n",
    "\n",
    "```\n",
    "\n",
    "**Example 3:**\n",
    "\n",
    "```\n",
    "Input: nums = [-1,3,2,0]\n",
    "Output: true\n",
    "Explanation: There are three 132 patterns in the sequence: [-1, 3, 2], [-1, 3, 0] and [-1, 2, 0].\n",
    "\n",
    "```\n",
    "\n",
    "**Constraints:**\n",
    "\n",
    "- `n == nums.length`\n",
    "- `1 <= n <= 2 * 10^5`\n",
    "- `-10^9 <= nums[i] <= 10^9`\n",
    "\n",
    "</aside>"
   ]
  },
  {
   "cell_type": "code",
   "execution_count": 1,
   "id": "9ec5307d",
   "metadata": {},
   "outputs": [],
   "source": [
    "def find132pattern(nums):\n",
    "    stack = []\n",
    "    second = float('-inf')\n",
    "\n",
    "    for i in range(len(nums) - 1, -1, -1):\n",
    "        if nums[i] < second:\n",
    "            return True\n",
    "\n",
    "        while stack and nums[i] > stack[-1]:\n",
    "            second = stack.pop()\n",
    "\n",
    "        stack.append(nums[i])\n",
    "\n",
    "    return False\n"
   ]
  },
  {
   "cell_type": "code",
   "execution_count": 2,
   "id": "02e0b561",
   "metadata": {},
   "outputs": [
    {
     "name": "stdout",
     "output_type": "stream",
     "text": [
      "False\n",
      "True\n",
      "True\n"
     ]
    }
   ],
   "source": [
    "nums1 = [1, 2, 3, 4]\n",
    "print(find132pattern(nums1))  # Output: False\n",
    "\n",
    "nums2 = [3, 1, 4, 2]\n",
    "print(find132pattern(nums2))  # Output: True\n",
    "\n",
    "nums3 = [-1, 3, 2, 0]\n",
    "print(find132pattern(nums3))  # Output: True\n"
   ]
  },
  {
   "cell_type": "code",
   "execution_count": null,
   "id": "6542b120",
   "metadata": {},
   "outputs": [],
   "source": []
  }
 ],
 "metadata": {
  "kernelspec": {
   "display_name": "Python 3 (ipykernel)",
   "language": "python",
   "name": "python3"
  },
  "language_info": {
   "codemirror_mode": {
    "name": "ipython",
    "version": 3
   },
   "file_extension": ".py",
   "mimetype": "text/x-python",
   "name": "python",
   "nbconvert_exporter": "python",
   "pygments_lexer": "ipython3",
   "version": "3.9.7"
  }
 },
 "nbformat": 4,
 "nbformat_minor": 5
}
