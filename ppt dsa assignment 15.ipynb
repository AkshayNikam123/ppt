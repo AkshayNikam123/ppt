{
 "cells": [
  {
   "cell_type": "markdown",
   "id": "c1cd81fd",
   "metadata": {},
   "source": [
    "#  **Question 1**\n",
    "\n",
    "Given an array **arr[ ]** of size **N** having elements, the task is to find the next greater element for each element of the array in order of their appearance in the array.Next greater element of an element in the array is the nearest element on the right which is greater than the current element.If there does not exist next greater of current element, then next greater element for current element is -1. For example, next greater of the last element is always -1.\n",
    "\n",
    "Input:\n",
    "N = 4, arr[] = [1 3 2 4]\n",
    "Output:\n",
    "3 4 4 -1\n",
    "Explanation:\n",
    "In the array, the next larger element\n",
    "to 1 is 3 , 3 is 4 , 2 is 4 and for 4 ?\n",
    "since it doesn't exist, it is -1.\n",
    "\n",
    "Input:\n",
    "N = 5, arr[] [6 8 0 1 3]\n",
    "Output:\n",
    "8 -1 1 3 -1\n",
    "Explanation:\n",
    "In the array, the next larger element to\n",
    "6 is 8, for 8 there is no larger elements\n",
    "hence it is -1, for 0 it is 1 , for 1 it\n",
    "is 3 and then for 3 there is no larger\n",
    "element on right and hence -1."
   ]
  },
  {
   "cell_type": "code",
   "execution_count": 2,
   "id": "dbf1f663",
   "metadata": {},
   "outputs": [
    {
     "name": "stdout",
     "output_type": "stream",
     "text": [
      "3 4 4 -1\n",
      "8 -1 1 3 -1\n"
     ]
    }
   ],
   "source": [
    "def findNextGreaterElements(arr):\n",
    "    n = len(arr)\n",
    "    result = [-1] * n  # Initialize result array with -1\n",
    "    stack = []  # Create an empty stack\n",
    "\n",
    "    # Traverse the array from right to left\n",
    "    for i in range(n - 1, -1, -1):\n",
    "        # Pop elements from stack while stack is not empty and\n",
    "        # top of stack is less than or equal to arr[i]\n",
    "        while stack and stack[-1] <= arr[i]:\n",
    "            stack.pop()\n",
    "\n",
    "        # If stack is empty, there is no greater element on the right\n",
    "        if not stack:\n",
    "            result[i] = -1\n",
    "        # If stack is not empty, top element is the next greater element\n",
    "        else:\n",
    "            result[i] = stack[-1]\n",
    "\n",
    "        # Push arr[i] onto the stack\n",
    "        stack.append(arr[i])\n",
    "\n",
    "    return result\n",
    "\n",
    "\n",
    "# Example 1:\n",
    "arr1 = [1, 3, 2, 4]\n",
    "result1 = findNextGreaterElements(arr1)\n",
    "print(*result1)  # Output: 3 4 4 -1\n",
    "\n",
    "# Example 2:\n",
    "arr2 = [6, 8, 0, 1, 3]\n",
    "result2 = findNextGreaterElements(arr2)\n",
    "print(*result2)  # Output: 8 -1 1 3 -1\n"
   ]
  },
  {
   "cell_type": "markdown",
   "id": "e2bfdfa3",
   "metadata": {},
   "source": [
    "# **Question 2**\n",
    "\n",
    "Given an array **a** of integers of length **n**, find the nearest smaller number for every element such that the smaller element is on left side.If no small element present on the left print -1.\n",
    "\n",
    "Input: n = 3\n",
    "a = {1, 6, 2}\n",
    "Output: -1 1 1\n",
    "Explaination: There is no number at the\n",
    "left of 1. Smaller number than 6 and 2 is 1.\n",
    "\n",
    "Input: n = 6\n",
    "a = {1, 5, 0, 3, 4, 5}\n",
    "Output: -1 1 -1 0 3 4\n",
    "Explaination: Upto 3 it is easy to see\n",
    "the smaller numbers. But for 4 the smaller\n",
    "numbers are 1, 0 and 3. But among them 3\n",
    "is closest. Similary for 5 it is 4."
   ]
  },
  {
   "cell_type": "code",
   "execution_count": 3,
   "id": "8c38a75b",
   "metadata": {},
   "outputs": [
    {
     "name": "stdout",
     "output_type": "stream",
     "text": [
      "-1 1 1\n",
      "-1 1 -1 0 3 4\n"
     ]
    }
   ],
   "source": [
    "def findNearestSmallerElements(a):\n",
    "    n = len(a)\n",
    "    result = [-1] * n  # Initialize result array with -1\n",
    "    stack = []  # Create an empty stack\n",
    "\n",
    "    # Traverse the array from left to right\n",
    "    for i in range(n):\n",
    "        # Pop elements from stack while stack is not empty and\n",
    "        # top of stack is greater than or equal to a[i]\n",
    "        while stack and stack[-1] >= a[i]:\n",
    "            stack.pop()\n",
    "\n",
    "        # If stack is not empty, top element is the nearest smaller element\n",
    "        if stack:\n",
    "            result[i] = stack[-1]\n",
    "\n",
    "        # Push a[i] onto the stack\n",
    "        stack.append(a[i])\n",
    "\n",
    "    return result\n",
    "\n",
    "\n",
    "# Example 1:\n",
    "a1 = [1, 6, 2]\n",
    "result1 = findNearestSmallerElements(a1)\n",
    "print(*result1)  # Output: -1 1 1\n",
    "\n",
    "# Example 2:\n",
    "a2 = [1, 5, 0, 3, 4, 5]\n",
    "result2 = findNearestSmallerElements(a2)\n",
    "print(*result2)  # Output: -1 1 -1 0 3 4\n"
   ]
  },
  {
   "cell_type": "markdown",
   "id": "87ef7e62",
   "metadata": {},
   "source": [
    "#  **Question 3**\n",
    "\n",
    "Implement a Stack using two queues **q1** and **q2**.\n",
    "\n",
    "**Example 1:**\n",
    "\n",
    "```\n",
    "Input:\n",
    "push(2)\n",
    "push(3)\n",
    "pop()\n",
    "push(4)\n",
    "pop()\n",
    "Output:3 4\n",
    "Explanation:\n",
    "push(2) the stack will be {2}\n",
    "push(3) the stack will be {2 3}\n",
    "pop()   poped element will be 3 the\n",
    "        stack will be {2}\n",
    "push(4) the stack will be {2 4}\n",
    "pop()   poped element will be 4\n",
    "\n",
    "```\n",
    "\n",
    "**Example 2:**\n",
    "\n",
    "Input:\n",
    "push(2)\n",
    "pop()\n",
    "pop()\n",
    "push(3)\n",
    "Output:2 -1"
   ]
  },
  {
   "cell_type": "code",
   "execution_count": 4,
   "id": "761bd477",
   "metadata": {},
   "outputs": [
    {
     "name": "stdout",
     "output_type": "stream",
     "text": [
      "3\n",
      "None\n",
      "2\n",
      "-1\n",
      "3\n"
     ]
    }
   ],
   "source": [
    "class Stack:\n",
    "    def __init__(self):\n",
    "        self.q1 = []  # Queue 1\n",
    "        self.q2 = []  # Queue 2\n",
    "\n",
    "    def push(self, val):\n",
    "        self.q1.append(val)\n",
    "\n",
    "    def pop(self):\n",
    "        if not self.q1 and not self.q2:\n",
    "            return -1\n",
    "\n",
    "        if not self.q2:\n",
    "            while len(self.q1) > 1:\n",
    "                self.q2.append(self.q1.pop(0))\n",
    "\n",
    "            return self.q1.pop(0)\n",
    "\n",
    "        if not self.q1:\n",
    "            while len(self.q2) > 1:\n",
    "                self.q1.append(self.q2.pop(0))\n",
    "\n",
    "            return self.q2.pop(0)\n",
    "\n",
    "    def top(self):\n",
    "        if not self.q1 and not self.q2:\n",
    "            return -1\n",
    "\n",
    "        if not self.q2:\n",
    "            while len(self.q1) > 1:\n",
    "                self.q2.append(self.q1.pop(0))\n",
    "\n",
    "            return self.q1[0]\n",
    "\n",
    "        if not self.q1:\n",
    "            while len(self.q2) > 1:\n",
    "                self.q1.append(self.q2.pop(0))\n",
    "\n",
    "            return self.q2[0]\n",
    "\n",
    "\n",
    "# Example 1:\n",
    "stack1 = Stack()\n",
    "stack1.push(2)\n",
    "stack1.push(3)\n",
    "print(stack1.pop())  # Output: 3\n",
    "stack1.push(4)\n",
    "print(stack1.pop())  # Output: 4\n",
    "\n",
    "# Example 2:\n",
    "stack2 = Stack()\n",
    "stack2.push(2)\n",
    "print(stack2.pop())  # Output: 2\n",
    "print(stack2.pop())  # Output: -1\n",
    "stack2.push(3)\n",
    "print(stack2.top())  # Output: 3\n"
   ]
  },
  {
   "cell_type": "markdown",
   "id": "84fa9fff",
   "metadata": {},
   "source": [
    "# **Question 4**\n",
    "\n",
    "You are given a stack **St**. You have to reverse the stack using recursion.\n",
    "\n",
    "Input:St = {3,2,1,7,6}\n",
    "Output:{6,7,1,2,3}\n",
    "    \n",
    "Input:St = {4,3,9,6}\n",
    "Output:{6,9,3,4}"
   ]
  },
  {
   "cell_type": "code",
   "execution_count": 5,
   "id": "76ecbb07",
   "metadata": {},
   "outputs": [
    {
     "name": "stdout",
     "output_type": "stream",
     "text": [
      "[6, 7, 1, 2, 3]\n",
      "[6, 9, 3, 4]\n"
     ]
    }
   ],
   "source": [
    "def reverse_stack(stack):\n",
    "    if len(stack) <= 1:\n",
    "        return\n",
    "\n",
    "    top_element = stack.pop()\n",
    "    reverse_stack(stack)\n",
    "    insert_at_bottom(stack, top_element)\n",
    "\n",
    "\n",
    "def insert_at_bottom(stack, element):\n",
    "    if len(stack) == 0:\n",
    "        stack.append(element)\n",
    "        return\n",
    "\n",
    "    top_element = stack.pop()\n",
    "    insert_at_bottom(stack, element)\n",
    "    stack.append(top_element)\n",
    "\n",
    "\n",
    "# Example 1:\n",
    "stack1 = [3, 2, 1, 7, 6]\n",
    "reverse_stack(stack1)\n",
    "print(stack1)  # Output: [6, 7, 1, 2, 3]\n",
    "\n",
    "# Example 2:\n",
    "stack2 = [4, 3, 9, 6]\n",
    "reverse_stack(stack2)\n",
    "print(stack2)  # Output: [6, 9, 3, 4]\n"
   ]
  },
  {
   "cell_type": "markdown",
   "id": "74af917c",
   "metadata": {},
   "source": [
    "# **Question 5**\n",
    "\n",
    "You are given a string **S**, the task is to reverse the string using stack.\n",
    "\n",
    "Input: S=\"GeeksforGeeks\"\n",
    "Output: skeeGrofskeeG"
   ]
  },
  {
   "cell_type": "code",
   "execution_count": 6,
   "id": "fc0204b8",
   "metadata": {},
   "outputs": [
    {
     "name": "stdout",
     "output_type": "stream",
     "text": [
      "skeeGrofskeeG\n"
     ]
    }
   ],
   "source": [
    "def reverse_string(string):\n",
    "    stack = []\n",
    "    reversed_string = \"\"\n",
    "\n",
    "    # Push each character onto the stack\n",
    "    for char in string:\n",
    "        stack.append(char)\n",
    "\n",
    "    # Pop each character from the stack and append it to the reversed string\n",
    "    while stack:\n",
    "        reversed_string += stack.pop()\n",
    "\n",
    "    return reversed_string\n",
    "\n",
    "\n",
    "# Example:\n",
    "s = \"GeeksforGeeks\"\n",
    "reversed_s = reverse_string(s)\n",
    "print(reversed_s)  # Output: skeeGrofskeeG\n"
   ]
  },
  {
   "cell_type": "markdown",
   "id": "3211f6d6",
   "metadata": {},
   "source": [
    "# **Question 6**\n",
    "\n",
    "Given string **S** representing a postfix expression, the task is to evaluate the expression and find the final value. Operators will only include the basic arithmetic operators like ***, /, + and -**.\n",
    "\n",
    "Input: S = \"231*+9-\"\n",
    "Output: -4\n",
    "Explanation:\n",
    "After solving the given expression,\n",
    "we have -4 as result.\n",
    "\n",
    "Input: S = \"123+*8-\"\n",
    "Output: -3\n",
    "Explanation:\n",
    "After solving the given postfix\n",
    "expression, we have -3 as result."
   ]
  },
  {
   "cell_type": "code",
   "execution_count": 7,
   "id": "4c1c4aab",
   "metadata": {},
   "outputs": [
    {
     "name": "stdout",
     "output_type": "stream",
     "text": [
      "-4\n"
     ]
    }
   ],
   "source": [
    "def evaluate_postfix(expression):\n",
    "    stack = []\n",
    "\n",
    "    for char in expression:\n",
    "        if char.isdigit():\n",
    "            stack.append(int(char))\n",
    "        else:\n",
    "            operand2 = stack.pop()\n",
    "            operand1 = stack.pop()\n",
    "\n",
    "            if char == '+':\n",
    "                result = operand1 + operand2\n",
    "            elif char == '-':\n",
    "                result = operand1 - operand2\n",
    "            elif char == '*':\n",
    "                result = operand1 * operand2\n",
    "            elif char == '/':\n",
    "                result = operand1 / operand2\n",
    "\n",
    "            stack.append(result)\n",
    "\n",
    "    return stack.pop()\n",
    "\n",
    "\n",
    "# Example:\n",
    "postfix_expr = \"231*+9-\"\n",
    "result = evaluate_postfix(postfix_expr)\n",
    "print(result)  # Output: -4\n"
   ]
  },
  {
   "cell_type": "markdown",
   "id": "b3d5c4dc",
   "metadata": {},
   "source": [
    "#  **Question 7**\n",
    "\n",
    "Design a stack that supports push, pop, top, and retrieving the minimum element in constant time.\n",
    "\n",
    "Implement the `MinStack` class:\n",
    "\n",
    "- `MinStack()` initializes the stack object.\n",
    "- `void push(int val)` pushes the element `val` onto the stack.\n",
    "- `void pop()` removes the element on the top of the stack.\n",
    "- `int top()` gets the top element of the stack.\n",
    "- `int getMin()` retrieves the minimum element in the stack.\n",
    "\n",
    "You must implement a solution with `O(1)` time complexity for each function.\n",
    "\n",
    "Input\n",
    "[\"MinStack\",\"push\",\"push\",\"push\",\"getMin\",\"pop\",\"top\",\"getMin\"]\n",
    "[[],[-2],[0],[-3],[],[],[],[]]\n",
    "\n",
    "Output\n",
    "[null,null,null,null,-3,null,0,-2]\n",
    "\n",
    "Explanation\n",
    "MinStack minStack = new MinStack();\n",
    "minStack.push(-2);\n",
    "minStack.push(0);\n",
    "minStack.push(-3);\n",
    "minStack.getMin(); // return -3\n",
    "minStack.pop();\n",
    "minStack.top();    // return 0\n",
    "minStack.getMin(); // return -2"
   ]
  },
  {
   "cell_type": "code",
   "execution_count": 8,
   "id": "e557afac",
   "metadata": {},
   "outputs": [],
   "source": [
    "class MinStack:\n",
    "    def __init__(self):\n",
    "        self.stack = []\n",
    "        self.min_stack = []\n",
    "\n",
    "    def push(self, val):\n",
    "        self.stack.append(val)\n",
    "\n",
    "        if not self.min_stack or val <= self.min_stack[-1]:\n",
    "            self.min_stack.append(val)\n",
    "\n",
    "    def pop(self):\n",
    "        if self.stack:\n",
    "            popped = self.stack.pop()\n",
    "            if popped == self.min_stack[-1]:\n",
    "                self.min_stack.pop()\n",
    "\n",
    "    def top(self):\n",
    "        if self.stack:\n",
    "            return self.stack[-1]\n",
    "\n",
    "    def getMin(self):\n",
    "        if self.min_stack:\n",
    "            return self.min_stack[-1]\n"
   ]
  },
  {
   "cell_type": "code",
   "execution_count": 9,
   "id": "a74d533f",
   "metadata": {},
   "outputs": [
    {
     "data": {
      "text/plain": [
       "-2"
      ]
     },
     "execution_count": 9,
     "metadata": {},
     "output_type": "execute_result"
    }
   ],
   "source": [
    "minStack = MinStack()\n",
    "minStack.push(-2)\n",
    "minStack.push(0)\n",
    "minStack.push(-3)\n",
    "minStack.getMin()  # Output: -3\n",
    "minStack.pop()\n",
    "minStack.top()  # Output: 0\n",
    "minStack.getMin()  # Output: -2\n"
   ]
  },
  {
   "cell_type": "markdown",
   "id": "71f143f4",
   "metadata": {},
   "source": [
    "# **Question 8**\n",
    "\n",
    "Given `n` non-negative integers representing an elevation map where the width of each bar is `1`, compute how much water it can trap after raining.\n",
    "\n",
    "Input: height = [0,1,0,2,1,0,1,3,2,1,2,1]\n",
    "Output: 6\n",
    "Explanation: The above elevation map (black section) is represented by array [0,1,0,2,1,0,1,3,2,1,2,1]. In this case, 6 units of rain water (blue section) are being trapped.\n",
    "\n",
    "Input: height = [4,2,0,3,2,5]\n",
    "Output: 9"
   ]
  },
  {
   "cell_type": "code",
   "execution_count": 10,
   "id": "53498ced",
   "metadata": {},
   "outputs": [],
   "source": [
    "def trap(height):\n",
    "    if not height:\n",
    "        return 0\n",
    "\n",
    "    n = len(height)\n",
    "    left = 0\n",
    "    right = n - 1\n",
    "    left_max = right_max = 0\n",
    "    water = 0\n",
    "\n",
    "    while left < right:\n",
    "        if height[left] < height[right]:\n",
    "            if height[left] >= left_max:\n",
    "                left_max = height[left]\n",
    "            else:\n",
    "                water += left_max - height[left]\n",
    "            left += 1\n",
    "        else:\n",
    "            if height[right] >= right_max:\n",
    "                right_max = height[right]\n",
    "            else:\n",
    "                water += right_max - height[right]\n",
    "            right -= 1\n",
    "\n",
    "    return water\n"
   ]
  },
  {
   "cell_type": "code",
   "execution_count": 11,
   "id": "7c38b577",
   "metadata": {},
   "outputs": [
    {
     "name": "stdout",
     "output_type": "stream",
     "text": [
      "6\n",
      "9\n"
     ]
    }
   ],
   "source": [
    "height = [0, 1, 0, 2, 1, 0, 1, 3, 2, 1, 2, 1]\n",
    "print(trap(height))  # Output: 6\n",
    "\n",
    "height = [4, 2, 0, 3, 2, 5]\n",
    "print(trap(height))  # Output: 9\n"
   ]
  },
  {
   "cell_type": "code",
   "execution_count": null,
   "id": "8b1f800f",
   "metadata": {},
   "outputs": [],
   "source": []
  }
 ],
 "metadata": {
  "kernelspec": {
   "display_name": "Python 3 (ipykernel)",
   "language": "python",
   "name": "python3"
  },
  "language_info": {
   "codemirror_mode": {
    "name": "ipython",
    "version": 3
   },
   "file_extension": ".py",
   "mimetype": "text/x-python",
   "name": "python",
   "nbconvert_exporter": "python",
   "pygments_lexer": "ipython3",
   "version": "3.9.7"
  }
 },
 "nbformat": 4,
 "nbformat_minor": 5
}
