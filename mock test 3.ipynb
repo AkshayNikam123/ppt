{
 "cells": [
  {
   "cell_type": "markdown",
   "id": "2a630e10",
   "metadata": {},
   "source": [
    "## Implement a stack using a list in Python. Include the necessary methods such as push, pop, and isEmpty."
   ]
  },
  {
   "cell_type": "code",
   "execution_count": 3,
   "id": "9cd633bd",
   "metadata": {},
   "outputs": [],
   "source": [
    "class Stack:\n",
    "    def __init__(self):\n",
    "        self.stack = []\n",
    "\n",
    "    def push(self, item):\n",
    "        self.stack.append(item)\n",
    "\n",
    "    def pop(self):\n",
    "        if self.isEmpty():\n",
    "            return None\n",
    "        return self.stack.pop()\n",
    "\n",
    "    def isEmpty(self):\n",
    "        return len(self.stack) == 0\n"
   ]
  },
  {
   "cell_type": "code",
   "execution_count": 5,
   "id": "282d28d4",
   "metadata": {},
   "outputs": [
    {
     "name": "stdout",
     "output_type": "stream",
     "text": [
      "3\n",
      "2\n",
      "False\n",
      "1\n",
      "True\n"
     ]
    }
   ],
   "source": [
    "stack = Stack()\n",
    "\n",
    "stack.push(1)\n",
    "stack.push(2)\n",
    "stack.push(3)\n",
    "\n",
    "print(stack.pop())  \n",
    "print(stack.pop())  \n",
    "print(stack.isEmpty())  \n",
    "print(stack.pop())  \n",
    "print(stack.isEmpty())  \n"
   ]
  },
  {
   "cell_type": "markdown",
   "id": "79254890",
   "metadata": {},
   "source": [
    "## Implement a queue using a list in Python. Include the necessary methods such as enqueue, dequeue, and isEmpty."
   ]
  },
  {
   "cell_type": "code",
   "execution_count": 6,
   "id": "1e4bbbe6",
   "metadata": {},
   "outputs": [],
   "source": [
    "class Queue:\n",
    "    def __init__(self):\n",
    "        self.queue = []\n",
    "\n",
    "    def enqueue(self, item):\n",
    "        self.queue.append(item)\n",
    "\n",
    "    def dequeue(self):\n",
    "        if self.isEmpty():\n",
    "            return None\n",
    "        return self.queue.pop(0)\n",
    "\n",
    "    def isEmpty(self):\n",
    "        return len(self.queue) == 0\n"
   ]
  },
  {
   "cell_type": "code",
   "execution_count": 7,
   "id": "c7feb39e",
   "metadata": {},
   "outputs": [
    {
     "name": "stdout",
     "output_type": "stream",
     "text": [
      "1\n",
      "2\n",
      "False\n",
      "3\n",
      "True\n"
     ]
    }
   ],
   "source": [
    "queue = Queue()\n",
    "\n",
    "queue.enqueue(1)\n",
    "queue.enqueue(2)\n",
    "queue.enqueue(3)\n",
    "\n",
    "print(queue.dequeue())  \n",
    "print(queue.dequeue())  \n",
    "print(queue.isEmpty())  \n",
    "print(queue.dequeue())  \n",
    "print(queue.isEmpty())  \n"
   ]
  },
  {
   "cell_type": "code",
   "execution_count": null,
   "id": "2b1cf260",
   "metadata": {},
   "outputs": [],
   "source": []
  }
 ],
 "metadata": {
  "kernelspec": {
   "display_name": "Python 3 (ipykernel)",
   "language": "python",
   "name": "python3"
  },
  "language_info": {
   "codemirror_mode": {
    "name": "ipython",
    "version": 3
   },
   "file_extension": ".py",
   "mimetype": "text/x-python",
   "name": "python",
   "nbconvert_exporter": "python",
   "pygments_lexer": "ipython3",
   "version": "3.9.7"
  }
 },
 "nbformat": 4,
 "nbformat_minor": 5
}
