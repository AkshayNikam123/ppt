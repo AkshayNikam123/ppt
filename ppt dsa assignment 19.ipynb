{
 "cells": [
  {
   "cell_type": "markdown",
   "id": "e2926477",
   "metadata": {},
   "source": [
    "#  1. **Merge k Sorted Lists**\n",
    "\n",
    "You are given an array of `k` linked-lists `lists`, each linked-list is sorted in ascending order.\n",
    "\n",
    "*Merge all the linked-lists into one sorted linked-list and return it.*\n",
    "\n",
    "**Example 1:**\n",
    "\n",
    "```\n",
    "Input: lists = [[1,4,5],[1,3,4],[2,6]]\n",
    "Output: [1,1,2,3,4,4,5,6]\n",
    "Explanation: The linked-lists are:\n",
    "[\n",
    "  1->4->5,\n",
    "  1->3->4,\n",
    "  2->6\n",
    "]\n",
    "merging them into one sorted list:\n",
    "1->1->2->3->4->4->5->6\n",
    "\n",
    "```\n",
    "\n",
    "**Example 2:**\n",
    "\n",
    "```\n",
    "Input: lists = []\n",
    "Output: []\n",
    "\n",
    "```\n",
    "\n",
    "**Example 3:**\n",
    "\n",
    "```\n",
    "Input: lists = [[]]\n",
    "Output: []\n",
    "\n",
    "```\n",
    "\n",
    "**Constraints:**\n",
    "\n",
    "- `k == lists.length`\n",
    "- `0 <= k <= 10000`\n",
    "- `0 <= lists[i].length <= 500`\n",
    "- `-10000 <= lists[i][j] <= 10000`\n",
    "- `lists[i]` is sorted in **ascending order**.\n",
    "- The sum of `lists[i].length` will not exceed `10000`.\n",
    "</aside>"
   ]
  },
  {
   "cell_type": "code",
   "execution_count": 1,
   "id": "4cbeb6b1",
   "metadata": {},
   "outputs": [],
   "source": [
    "import heapq\n",
    "\n",
    "class ListNode:\n",
    "    def __init__(self, val=0, next=None):\n",
    "        self.val = val\n",
    "        self.next = next\n",
    "\n",
    "def mergeKLists(lists):\n",
    "    # Create a min-heap to store the nodes of the linked lists\n",
    "    min_heap = []\n",
    "\n",
    "    # Push the first node from each linked list into the min-heap\n",
    "    for i in range(len(lists)):\n",
    "        if lists[i]:\n",
    "            heapq.heappush(min_heap, (lists[i].val, i))\n",
    "\n",
    "    # Create a dummy node as the head of the merged list\n",
    "    dummy = ListNode()\n",
    "    curr = dummy\n",
    "\n",
    "    # Merge the lists by repeatedly extracting the minimum node from the min-heap\n",
    "    while min_heap:\n",
    "        # Pop the minimum node from the min-heap\n",
    "        val, idx = heapq.heappop(min_heap)\n",
    "        node = ListNode(val)\n",
    "        curr.next = node\n",
    "        curr = curr.next\n",
    "\n",
    "        # Move to the next node in the corresponding linked list\n",
    "        lists[idx] = lists[idx].next\n",
    "\n",
    "        # Push the next node into the min-heap if it exists\n",
    "        if lists[idx]:\n",
    "            heapq.heappush(min_heap, (lists[idx].val, idx))\n",
    "\n",
    "    # Return the merged list\n",
    "    return dummy.next\n"
   ]
  },
  {
   "cell_type": "code",
   "execution_count": 3,
   "id": "38b4fffc",
   "metadata": {},
   "outputs": [
    {
     "name": "stdout",
     "output_type": "stream",
     "text": [
      "[1, 1, 2, 3, 4, 4, 5, 6]\n",
      "[]\n",
      "[]\n"
     ]
    }
   ],
   "source": [
    "# Helper function to convert a list to a linked list\n",
    "def arrayToList(nums):\n",
    "    dummy = ListNode()\n",
    "    curr = dummy\n",
    "    for num in nums:\n",
    "        curr.next = ListNode(num)\n",
    "        curr = curr.next\n",
    "    return dummy.next\n",
    "\n",
    "# Helper function to convert a linked list to a list\n",
    "def listToArray(head):\n",
    "    result = []\n",
    "    curr = head\n",
    "    while curr:\n",
    "        result.append(curr.val)\n",
    "        curr = curr.next\n",
    "    return result\n",
    "\n",
    "# Test Example 1\n",
    "lists1 = [arrayToList([1, 4, 5]), arrayToList([1, 3, 4]), arrayToList([2, 6])]\n",
    "merged1 = mergeKLists(lists1)\n",
    "print(listToArray(merged1))  # Output: [1, 1, 2, 3, 4, 4, 5, 6]\n",
    "\n",
    "# Test Example 2\n",
    "lists2 = []\n",
    "merged2 = mergeKLists(lists2)\n",
    "print(listToArray(merged2))  # Output: []\n",
    "\n",
    "# Test Example 3\n",
    "lists3 = [[]]\n",
    "merged3 = mergeKLists(lists3)\n",
    "print(listToArray(merged3))  # Output: []\n"
   ]
  },
  {
   "cell_type": "markdown",
   "id": "53f09965",
   "metadata": {},
   "source": [
    "# 2. **Count of Smaller Numbers After Self**\n",
    "\n",
    "Given an integer array `nums`, return *an integer array* `counts` *where* `counts[i]` *is the number of smaller elements to the right of* `nums[i]`.\n",
    "\n",
    "**Example 1:**\n",
    "\n",
    "```\n",
    "Input: nums = [5,2,6,1]\n",
    "Output: [2,1,1,0]\n",
    "Explanation:\n",
    "To the right of 5 there are2 smaller elements (2 and 1).\n",
    "To the right of 2 there is only1 smaller element (1).\n",
    "To the right of 6 there is1 smaller element (1).\n",
    "To the right of 1 there is0 smaller element.\n",
    "\n",
    "```\n",
    "\n",
    "**Example 2:**\n",
    "\n",
    "```\n",
    "Input: nums = [-1]\n",
    "Output: [0]\n",
    "\n",
    "```\n",
    "\n",
    "**Example 3:**\n",
    "\n",
    "```\n",
    "Input: nums = [-1,-1]\n",
    "Output: [0,0]\n",
    "\n",
    "```\n",
    "\n",
    "**Constraints:**\n",
    "\n",
    "- `1 <= nums.length <= 100000`\n",
    "- `-10000 <= nums[i] <= 10000`\n",
    "</aside>"
   ]
  },
  {
   "cell_type": "markdown",
   "id": "09553044",
   "metadata": {},
   "source": [
    "# 3. **Sort an Array**\n",
    "\n",
    "Given an array of integers `nums`, sort the array in ascending order and return it.\n",
    "\n",
    "You must solve the problem **without using any built-in** functions in `O(nlog(n))` time complexity and with the smallest space complexity possible.\n",
    "\n",
    "**Example 1:**\n",
    "\n",
    "```\n",
    "Input: nums = [5,2,3,1]\n",
    "Output: [1,2,3,5]\n",
    "Explanation: After sorting the array, the positions of some numbers are not changed (for example, 2 and 3), while the positions of other numbers are changed (for example, 1 and 5).\n",
    "\n",
    "```\n",
    "\n",
    "**Example 2:**\n",
    "\n",
    "```\n",
    "Input: nums = [5,1,1,2,0,0]\n",
    "Output: [0,0,1,1,2,5]\n",
    "Explanation: Note that the values of nums are not necessairly unique.\n",
    "\n",
    "```\n",
    "\n",
    "**Constraints:**\n",
    "\n",
    "- `1 <= nums.length <= 5 * 10000`\n",
    "- `-5 * 104 <= nums[i] <= 5 * 10000`\n",
    "</aside>"
   ]
  },
  {
   "cell_type": "code",
   "execution_count": 4,
   "id": "4c4ef481",
   "metadata": {},
   "outputs": [],
   "source": [
    "def sortArray(nums):\n",
    "    # Base case: if the array has 0 or 1 element, it is already sorted\n",
    "    if len(nums) <= 1:\n",
    "        return nums\n",
    "\n",
    "    # Divide the array into two halves\n",
    "    mid = len(nums) // 2\n",
    "    left = sortArray(nums[:mid])\n",
    "    right = sortArray(nums[mid:])\n",
    "\n",
    "    # Merge the sorted halves\n",
    "    return merge(left, right)\n",
    "\n",
    "def merge(left, right):\n",
    "    merged = []\n",
    "    i = j = 0\n",
    "\n",
    "    # Merge the two sorted halves by comparing elements\n",
    "    while i < len(left) and j < len(right):\n",
    "        if left[i] <= right[j]:\n",
    "            merged.append(left[i])\n",
    "            i += 1\n",
    "        else:\n",
    "            merged.append(right[j])\n",
    "            j += 1\n",
    "\n",
    "    # Append the remaining elements from the unfinished half\n",
    "    merged.extend(left[i:])\n",
    "    merged.extend(right[j:])\n",
    "\n",
    "    return merged\n"
   ]
  },
  {
   "cell_type": "code",
   "execution_count": 5,
   "id": "ae4f5a25",
   "metadata": {},
   "outputs": [
    {
     "name": "stdout",
     "output_type": "stream",
     "text": [
      "[1, 2, 3, 5]\n",
      "[0, 0, 1, 1, 2, 5]\n"
     ]
    }
   ],
   "source": [
    "# Test Example 1\n",
    "nums1 = [5, 2, 3, 1]\n",
    "sorted1 = sortArray(nums1)\n",
    "print(sorted1)  # Output: [1, 2, 3, 5]\n",
    "\n",
    "# Test Example 2\n",
    "nums2 = [5, 1, 1, 2, 0, 0]\n",
    "sorted2 = sortArray(nums2)\n",
    "print(sorted2)  # Output: [0, 0, 1, 1, 2, 5]\n"
   ]
  },
  {
   "cell_type": "markdown",
   "id": "fa502932",
   "metadata": {},
   "source": [
    "#  4. **Move all zeroes to end of array**\n",
    "\n",
    "Given an array of random numbers, Push all the zero’s of a given array to the end of the array. For example, if the given arrays is {1, 9, 8, 4, 0, 0, 2, 7, 0, 6, 0}, it should be changed to {1, 9, 8, 4, 2, 7, 6, 0, 0, 0, 0}. The order of all other elements should be same. Expected time complexity is O(n) and extra space is O(1).\n",
    "\n",
    "**Example:**\n",
    "\n",
    "Input :  arr[] = {1, 2, 0, 4, 3, 0, 5, 0};\n",
    "Output : arr[] = {1, 2, 4, 3, 5, 0, 0, 0};\n",
    "\n",
    "Input : arr[]  = {1, 2, 0, 0, 0, 3, 6};\n",
    "Output : arr[] = {1, 2, 3, 6, 0, 0, 0};"
   ]
  },
  {
   "cell_type": "code",
   "execution_count": 6,
   "id": "83d1c91b",
   "metadata": {},
   "outputs": [],
   "source": [
    "def moveZeroes(nums):\n",
    "    n = len(nums)\n",
    "    zero_pos = 0\n",
    "\n",
    "    # Move all non-zero elements to the front of the array\n",
    "    for i in range(n):\n",
    "        if nums[i] != 0:\n",
    "            nums[zero_pos] = nums[i]\n",
    "            zero_pos += 1\n",
    "\n",
    "    # Fill the remaining positions with zeros\n",
    "    while zero_pos < n:\n",
    "        nums[zero_pos] = 0\n",
    "        zero_pos += 1\n",
    "\n",
    "    return nums\n"
   ]
  },
  {
   "cell_type": "code",
   "execution_count": 7,
   "id": "9444015e",
   "metadata": {},
   "outputs": [
    {
     "name": "stdout",
     "output_type": "stream",
     "text": [
      "[1, 9, 8, 4, 2, 7, 6, 0, 0, 0, 0]\n",
      "[1, 2, 4, 3, 5, 0, 0, 0]\n"
     ]
    }
   ],
   "source": [
    "# Test Example 1\n",
    "nums1 = [1, 9, 8, 4, 0, 0, 2, 7, 0, 6, 0]\n",
    "result1 = moveZeroes(nums1)\n",
    "print(result1)  # Output: [1, 9, 8, 4, 2, 7, 6, 0, 0, 0, 0]\n",
    "\n",
    "# Test Example 2\n",
    "nums2 = [1, 2, 0, 4, 3, 0, 5, 0]\n",
    "result2 = moveZeroes(nums2)\n",
    "print(result2)  # Output: [1, 2, 4, 3, 5, 0, 0, 0]\n"
   ]
  },
  {
   "cell_type": "markdown",
   "id": "c198dd54",
   "metadata": {},
   "source": [
    "#  5. **Rearrange array in alternating positive & negative items with O(1) extra space**\n",
    "\n",
    "Given an **array of positive** and **negative numbers**, arrange them in an **alternate** fashion such that every positive number is followed by a negative and vice-versa maintaining the **order of appearance**. The number of positive and negative numbers need not be equal. If there are more positive numbers they appear at the end of the array. If there are more negative numbers, they too appear at the end of the array.\n",
    "\n",
    "**Examples:**\n",
    "\n",
    "Input:  arr[] = {1, 2, 3, -4, -1, 4}\n",
    "Output: arr[] = {-4, 1, -1, 2, 3, 4}\n",
    "\n",
    "Input:  arr[] = {-5, -2, 5, 2, 4, 7, 1, 8, 0, -8}\n",
    "Output: arr[] = {-5, 5, -2, 2, -8, 4, 7, 1, 8, 0}\n",
    "\n",
    ">\n"
   ]
  },
  {
   "cell_type": "code",
   "execution_count": 8,
   "id": "2a520d54",
   "metadata": {},
   "outputs": [],
   "source": [
    "def rearrangeArray(nums):\n",
    "    n = len(nums)\n",
    "    positive = 0\n",
    "    negative = 1\n",
    "\n",
    "    while positive < n and negative < n:\n",
    "        # Find the first out-of-place positive number\n",
    "        while positive < n and nums[positive] >= 0:\n",
    "            positive += 2\n",
    "\n",
    "        # Find the first out-of-place negative number\n",
    "        while negative < n and nums[negative] <= 0:\n",
    "            negative += 2\n",
    "\n",
    "        # Swap the out-of-place positive and negative numbers\n",
    "        if positive < n and negative < n:\n",
    "            nums[positive], nums[negative] = nums[negative], nums[positive]\n",
    "\n",
    "    return nums\n"
   ]
  },
  {
   "cell_type": "code",
   "execution_count": 9,
   "id": "e80b5679",
   "metadata": {},
   "outputs": [
    {
     "name": "stdout",
     "output_type": "stream",
     "text": [
      "[1, -1, 3, -4, 2, 4]\n",
      "[2, -2, 5, -5, 4, 7, 1, 8, 0, -8]\n"
     ]
    }
   ],
   "source": [
    "# Test Example 1\n",
    "nums1 = [1, 2, 3, -4, -1, 4]\n",
    "result1 = rearrangeArray(nums1)\n",
    "print(result1)  # Output: [-4, 1, -1, 2, 3, 4]\n",
    "\n",
    "# Test Example 2\n",
    "nums2 = [-5, -2, 5, 2, 4, 7, 1, 8, 0, -8]\n",
    "result2 = rearrangeArray(nums2)\n",
    "print(result2)  # Output: [-5, 5, -2, 2, -8, 4, 7, 1, 8, 0]\n"
   ]
  },
  {
   "cell_type": "markdown",
   "id": "6d69d705",
   "metadata": {},
   "source": [
    "#  **6. Merge two sorted arrays**\n",
    "\n",
    "Given two sorted arrays, the task is to merge them in a sorted manner.\n",
    "\n",
    "**Examples:**\n",
    "\n",
    "Input: arr1[] = { 1, 3, 4, 5}, arr2[] = {2, 4, 6, 8} \n",
    "Output: arr3[] = {1, 2, 3, 4, 4, 5, 6, 8}\n",
    "\n",
    "Input: arr1[] = { 5, 8, 9}, arr2[] = {4, 7, 8}\n",
    "Output: arr3[] = {4, 5, 7, 8, 8, 9}\n"
   ]
  },
  {
   "cell_type": "code",
   "execution_count": 10,
   "id": "1f12d393",
   "metadata": {},
   "outputs": [],
   "source": [
    "def mergeArrays(arr1, arr2):\n",
    "    n1 = len(arr1)\n",
    "    n2 = len(arr2)\n",
    "    merged = []\n",
    "\n",
    "    i = 0  # Pointer for arr1\n",
    "    j = 0  # Pointer for arr2\n",
    "\n",
    "    while i < n1 and j < n2:\n",
    "        if arr1[i] <= arr2[j]:\n",
    "            merged.append(arr1[i])\n",
    "            i += 1\n",
    "        else:\n",
    "            merged.append(arr2[j])\n",
    "            j += 1\n",
    "\n",
    "    # Add the remaining elements of arr1 (if any)\n",
    "    while i < n1:\n",
    "        merged.append(arr1[i])\n",
    "        i += 1\n",
    "\n",
    "    # Add the remaining elements of arr2 (if any)\n",
    "    while j < n2:\n",
    "        merged.append(arr2[j])\n",
    "        j += 1\n",
    "\n",
    "    return merged\n"
   ]
  },
  {
   "cell_type": "code",
   "execution_count": 11,
   "id": "7f72c60c",
   "metadata": {},
   "outputs": [
    {
     "name": "stdout",
     "output_type": "stream",
     "text": [
      "[1, 2, 3, 4, 4, 5, 6, 8]\n",
      "[4, 5, 7, 8, 8, 9]\n"
     ]
    }
   ],
   "source": [
    "# Test Example 1\n",
    "arr1_1 = [1, 3, 4, 5]\n",
    "arr2_1 = [2, 4, 6, 8]\n",
    "result1 = mergeArrays(arr1_1, arr2_1)\n",
    "print(result1)  # Output: [1, 2, 3, 4, 4, 5, 6, 8]\n",
    "\n",
    "# Test Example 2\n",
    "arr1_2 = [5, 8, 9]\n",
    "arr2_2 = [4, 7, 8]\n",
    "result2 = mergeArrays(arr1_2, arr2_2)\n",
    "print(result2)  # Output: [4, 5, 7, 8, 8, 9]\n"
   ]
  },
  {
   "cell_type": "markdown",
   "id": "5c3819d9",
   "metadata": {},
   "source": [
    "# 7. **Intersection of Two Arrays**\n",
    "\n",
    "Given two integer arrays `nums1` and `nums2`, return *an array of their intersection*. Each element in the result must be **unique** and you may return the result in **any order**.\n",
    "\n",
    "**Example 1:**\n",
    "\n",
    "```\n",
    "Input: nums1 = [1,2,2,1], nums2 = [2,2]\n",
    "Output: [2]\n",
    "\n",
    "```\n",
    "\n",
    "**Example 2:**\n",
    "\n",
    "```\n",
    "Input: nums1 = [4,9,5], nums2 = [9,4,9,8,4]\n",
    "Output: [9,4]\n",
    "Explanation: [4,9] is also accepted.\n",
    "\n",
    "```\n",
    "\n",
    "**Constraints:**\n",
    "\n",
    "- `1 <= nums1.length, nums2.length <= 1000`\n",
    "- `0 <= nums1[i], nums2[i] <= 1000`\n",
    "</aside>"
   ]
  },
  {
   "cell_type": "code",
   "execution_count": 12,
   "id": "0b376a12",
   "metadata": {},
   "outputs": [],
   "source": [
    "def intersection(nums1, nums2):\n",
    "    set1 = set(nums1)\n",
    "    intersect = set()\n",
    "\n",
    "    for num in nums2:\n",
    "        if num in set1:\n",
    "            intersect.add(num)\n",
    "\n",
    "    return list(intersect)\n"
   ]
  },
  {
   "cell_type": "code",
   "execution_count": 13,
   "id": "f0d1ccc0",
   "metadata": {},
   "outputs": [
    {
     "name": "stdout",
     "output_type": "stream",
     "text": [
      "[2]\n",
      "[9, 4]\n"
     ]
    }
   ],
   "source": [
    "# Test Example 1\n",
    "nums1_1 = [1, 2, 2, 1]\n",
    "nums2_1 = [2, 2]\n",
    "result1 = intersection(nums1_1, nums2_1)\n",
    "print(result1)  # Output: [2]\n",
    "\n",
    "# Test Example 2\n",
    "nums1_2 = [4, 9, 5]\n",
    "nums2_2 = [9, 4, 9, 8, 4]\n",
    "result2 = intersection(nums1_2, nums2_2)\n",
    "print(result2)  # Output: [4, 9]\n"
   ]
  },
  {
   "cell_type": "markdown",
   "id": "835a6942",
   "metadata": {},
   "source": [
    "#  8. **Intersection of Two Arrays II**\n",
    "\n",
    "Given two integer arrays `nums1` and `nums2`, return *an array of their intersection*. Each element in the result must appear as many times as it shows in both arrays and you may return the result in **any order**.\n",
    "\n",
    "**Example 1:**\n",
    "\n",
    "```\n",
    "Input: nums1 = [1,2,2,1], nums2 = [2,2]\n",
    "Output: [2,2]\n",
    "\n",
    "```\n",
    "\n",
    "**Example 2:**\n",
    "\n",
    "```\n",
    "Input: nums1 = [4,9,5], nums2 = [9,4,9,8,4]\n",
    "Output: [4,9]\n",
    "Explanation: [9,4] is also accepted.\n",
    "\n",
    "```\n",
    "\n",
    "**Constraints:**\n",
    "\n",
    "- `1 <= nums1.length, nums2.length <= 1000`\n",
    "- `0 <= nums1[i], nums2[i] <= 1000`\n",
    "</aside>"
   ]
  },
  {
   "cell_type": "code",
   "execution_count": 14,
   "id": "44b59b59",
   "metadata": {},
   "outputs": [],
   "source": [
    "from collections import defaultdict\n",
    "\n",
    "def intersect(nums1, nums2):\n",
    "    count = defaultdict(int)\n",
    "    intersect = []\n",
    "\n",
    "    for num in nums1:\n",
    "        count[num] += 1\n",
    "\n",
    "    for num in nums2:\n",
    "        if count[num] > 0:\n",
    "            intersect.append(num)\n",
    "            count[num] -= 1\n",
    "\n",
    "    return intersect\n"
   ]
  },
  {
   "cell_type": "code",
   "execution_count": 15,
   "id": "02e02ade",
   "metadata": {},
   "outputs": [
    {
     "name": "stdout",
     "output_type": "stream",
     "text": [
      "[2, 2]\n",
      "[9, 4]\n"
     ]
    }
   ],
   "source": [
    "# Test Example 1\n",
    "nums1_1 = [1, 2, 2, 1]\n",
    "nums2_1 = [2, 2]\n",
    "result1 = intersect(nums1_1, nums2_1)\n",
    "print(result1)  # Output: [2, 2]\n",
    "\n",
    "# Test Example 2\n",
    "nums1_2 = [4, 9, 5]\n",
    "nums2_2 = [9, 4, 9, 8, 4]\n",
    "result2 = intersect(nums1_2, nums2_2)\n",
    "print(result2)  # Output: [4, 9]\n"
   ]
  },
  {
   "cell_type": "code",
   "execution_count": null,
   "id": "1630a342",
   "metadata": {},
   "outputs": [],
   "source": []
  }
 ],
 "metadata": {
  "kernelspec": {
   "display_name": "Python 3 (ipykernel)",
   "language": "python",
   "name": "python3"
  },
  "language_info": {
   "codemirror_mode": {
    "name": "ipython",
    "version": 3
   },
   "file_extension": ".py",
   "mimetype": "text/x-python",
   "name": "python",
   "nbconvert_exporter": "python",
   "pygments_lexer": "ipython3",
   "version": "3.9.7"
  }
 },
 "nbformat": 4,
 "nbformat_minor": 5
}
