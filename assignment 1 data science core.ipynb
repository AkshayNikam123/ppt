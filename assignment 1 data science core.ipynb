{
 "cells": [
  {
   "cell_type": "markdown",
   "id": "4cc365a6",
   "metadata": {},
   "source": [
    "## Q1 Write a Python program to reverse a string without using any built-in string reversal functions."
   ]
  },
  {
   "cell_type": "code",
   "execution_count": 1,
   "id": "a38762cc",
   "metadata": {},
   "outputs": [
    {
     "name": "stdout",
     "output_type": "stream",
     "text": [
      "!dlroW ,olleH\n"
     ]
    }
   ],
   "source": [
    "def reverse_string(string):\n",
    "    reversed_str = \"\"\n",
    "    for i in range(len(string)-1, -1, -1):\n",
    "        reversed_str += string[i]\n",
    "    return reversed_str\n",
    "\n",
    "# Example usage:\n",
    "input_str = \"Hello, World!\"\n",
    "reversed_str = reverse_string(input_str)\n",
    "print(reversed_str)\n"
   ]
  },
  {
   "cell_type": "markdown",
   "id": "c4b3154c",
   "metadata": {},
   "source": [
    "## Q2 Implement a function to check if a given string is a palindrome."
   ]
  },
  {
   "cell_type": "code",
   "execution_count": 2,
   "id": "17892870",
   "metadata": {},
   "outputs": [
    {
     "name": "stdout",
     "output_type": "stream",
     "text": [
      "True\n"
     ]
    }
   ],
   "source": [
    "def is_palindrome(string):\n",
    "    # Remove any non-alphanumeric characters and convert to lowercase\n",
    "    string = ''.join(ch.lower() for ch in string if ch.isalnum())\n",
    "\n",
    "    # Check if the string is equal to its reverse\n",
    "    return string == string[::-1]\n",
    "\n",
    "# Example usage:\n",
    "input_str = \"A man, a plan, a canal: Panama\"\n",
    "result = is_palindrome(input_str)\n",
    "print(result)\n"
   ]
  },
  {
   "cell_type": "markdown",
   "id": "749221ff",
   "metadata": {},
   "source": [
    "## Q3 Write a program to find the largest element in a given list."
   ]
  },
  {
   "cell_type": "code",
   "execution_count": 3,
   "id": "42192b10",
   "metadata": {},
   "outputs": [
    {
     "name": "stdout",
     "output_type": "stream",
     "text": [
      "Largest element: 20\n"
     ]
    }
   ],
   "source": [
    "def find_largest_element(lst):\n",
    "    if not lst:\n",
    "        # Handle empty list\n",
    "        return None\n",
    "\n",
    "    largest = lst[0]  # Assume first element as the largest\n",
    "\n",
    "    for element in lst:\n",
    "        if element > largest:\n",
    "            largest = element\n",
    "\n",
    "    return largest\n",
    "\n",
    "# Example usage:\n",
    "input_list = [10, 5, 20, 8, 15]\n",
    "largest_element = find_largest_element(input_list)\n",
    "print(\"Largest element:\", largest_element)\n"
   ]
  },
  {
   "cell_type": "markdown",
   "id": "1c9dc9ac",
   "metadata": {},
   "source": [
    "## Q4 Implement a function to count the occurrence of each element in a list."
   ]
  },
  {
   "cell_type": "code",
   "execution_count": 4,
   "id": "a5fc6a68",
   "metadata": {},
   "outputs": [
    {
     "name": "stdout",
     "output_type": "stream",
     "text": [
      "Occurrences: {1: 3, 2: 3, 3: 2, 4: 1}\n"
     ]
    }
   ],
   "source": [
    "def count_occurrences(lst):\n",
    "    occurrences = {}\n",
    "\n",
    "    for element in lst:\n",
    "        if element in occurrences:\n",
    "            occurrences[element] += 1\n",
    "        else:\n",
    "            occurrences[element] = 1\n",
    "\n",
    "    return occurrences\n",
    "\n",
    "# Example usage:\n",
    "input_list = [1, 2, 3, 2, 1, 3, 4, 2, 1]\n",
    "occurrences = count_occurrences(input_list)\n",
    "print(\"Occurrences:\", occurrences)\n"
   ]
  },
  {
   "cell_type": "markdown",
   "id": "93caff65",
   "metadata": {},
   "source": [
    "## Q5 Write a Python program to find the second largest number in a list."
   ]
  },
  {
   "cell_type": "code",
   "execution_count": 5,
   "id": "d6f3f74b",
   "metadata": {},
   "outputs": [
    {
     "name": "stdout",
     "output_type": "stream",
     "text": [
      "Second largest number: 9\n"
     ]
    }
   ],
   "source": [
    "def find_second_largest(numbers):\n",
    "    if len(numbers) < 2:\n",
    "        return \"List should have at least two elements\"\n",
    "\n",
    "    largest = float('-inf')\n",
    "    second_largest = float('-inf')\n",
    "\n",
    "    for num in numbers:\n",
    "        if num > largest:\n",
    "            second_largest = largest\n",
    "            largest = num\n",
    "        elif num > second_largest and num < largest:\n",
    "            second_largest = num\n",
    "\n",
    "    if second_largest == float('-inf'):\n",
    "        return \"No second largest element found\"\n",
    "    else:\n",
    "        return second_largest\n",
    "\n",
    "# Example usage:\n",
    "input_list = [5, 8, 2, 10, 9, 3]\n",
    "second_largest = find_second_largest(input_list)\n",
    "print(\"Second largest number:\", second_largest)\n"
   ]
  },
  {
   "cell_type": "markdown",
   "id": "4496eef5",
   "metadata": {},
   "source": [
    "## Q6 Implement a function to remove duplicate elements from a list"
   ]
  },
  {
   "cell_type": "code",
   "execution_count": 6,
   "id": "d2e448b7",
   "metadata": {},
   "outputs": [
    {
     "name": "stdout",
     "output_type": "stream",
     "text": [
      "List with duplicates removed: [1, 2, 3, 4, 5]\n"
     ]
    }
   ],
   "source": [
    "def remove_duplicates(lst):\n",
    "    return list(set(lst))\n",
    "\n",
    "# Example usage:\n",
    "input_list = [1, 2, 3, 3, 4, 4, 5]\n",
    "unique_list = remove_duplicates(input_list)\n",
    "print(\"List with duplicates removed:\", unique_list)\n"
   ]
  },
  {
   "cell_type": "markdown",
   "id": "a32bd072",
   "metadata": {},
   "source": [
    "## Q7 Write a program to calculate the factorial of a given number."
   ]
  },
  {
   "cell_type": "code",
   "execution_count": 7,
   "id": "e058341f",
   "metadata": {},
   "outputs": [
    {
     "name": "stdout",
     "output_type": "stream",
     "text": [
      "Factorial of 5 is 120\n"
     ]
    }
   ],
   "source": [
    "def factorial(n):\n",
    "    if n < 0:\n",
    "        return \"Factorial is not defined for negative numbers.\"\n",
    "    elif n == 0 or n == 1:\n",
    "        return 1\n",
    "    else:\n",
    "        result = 1\n",
    "        for i in range(2, n+1):\n",
    "            result *= i\n",
    "        return result\n",
    "\n",
    "# Example usage:\n",
    "number = 5\n",
    "factorial_result = factorial(number)\n",
    "print(\"Factorial of\", number, \"is\", factorial_result)\n"
   ]
  },
  {
   "cell_type": "markdown",
   "id": "9dffd8da",
   "metadata": {},
   "source": [
    "## Q8 Implement a function to check if a given number is prime."
   ]
  },
  {
   "cell_type": "code",
   "execution_count": 8,
   "id": "0f0cd0d4",
   "metadata": {},
   "outputs": [
    {
     "name": "stdout",
     "output_type": "stream",
     "text": [
      "17 is prime\n"
     ]
    }
   ],
   "source": [
    "def is_prime(n):\n",
    "    if n <= 1:\n",
    "        return False\n",
    "    elif n <= 3:\n",
    "        return True\n",
    "    elif n % 2 == 0 or n % 3 == 0:\n",
    "        return False\n",
    "    else:\n",
    "        i = 5\n",
    "        while i * i <= n:\n",
    "            if n % i == 0 or n % (i + 2) == 0:\n",
    "                return False\n",
    "            i += 6\n",
    "        return True\n",
    "\n",
    "# Example usage:\n",
    "number = 17\n",
    "if is_prime(number):\n",
    "    print(number, \"is prime\")\n",
    "else:\n",
    "    print(number, \"is not prime\")\n"
   ]
  },
  {
   "cell_type": "markdown",
   "id": "0a507a43",
   "metadata": {},
   "source": [
    "## Q9 Write a Python program to sort a list of integers in ascending order."
   ]
  },
  {
   "cell_type": "code",
   "execution_count": 9,
   "id": "3335e7a7",
   "metadata": {},
   "outputs": [
    {
     "name": "stdout",
     "output_type": "stream",
     "text": [
      "[1, 2, 3, 5, 7, 9]\n"
     ]
    }
   ],
   "source": [
    "def sort_list(numbers):\n",
    "    numbers.sort()\n",
    "\n",
    "# Example usage:\n",
    "my_list = [7, 2, 5, 1, 9, 3]\n",
    "sort_list(my_list)\n",
    "print(my_list)\n"
   ]
  },
  {
   "cell_type": "markdown",
   "id": "36b52254",
   "metadata": {},
   "source": [
    "## Q10 Implement a function to find the sum of all numbers in a list."
   ]
  },
  {
   "cell_type": "code",
   "execution_count": 10,
   "id": "7886e9d1",
   "metadata": {},
   "outputs": [
    {
     "name": "stdout",
     "output_type": "stream",
     "text": [
      "15\n"
     ]
    }
   ],
   "source": [
    "def sum_list(numbers):\n",
    "    total = 0\n",
    "    for num in numbers:\n",
    "        total += num\n",
    "    return total\n",
    "\n",
    "# Example usage:\n",
    "my_list = [1, 2, 3, 4, 5]\n",
    "result = sum_list(my_list)\n",
    "print(result)\n"
   ]
  },
  {
   "cell_type": "markdown",
   "id": "572392b7",
   "metadata": {},
   "source": [
    "## Q11 Write a program to find the common elements between two lists."
   ]
  },
  {
   "cell_type": "code",
   "execution_count": 11,
   "id": "d5b6a10b",
   "metadata": {},
   "outputs": [
    {
     "name": "stdout",
     "output_type": "stream",
     "text": [
      "[4, 5]\n"
     ]
    }
   ],
   "source": [
    "def find_common_elements(list1, list2):\n",
    "    common_elements = []\n",
    "    for item in list1:\n",
    "        if item in list2:\n",
    "            common_elements.append(item)\n",
    "    return common_elements\n",
    "\n",
    "# Example usage:\n",
    "list1 = [1, 2, 3, 4, 5]\n",
    "list2 = [4, 5, 6, 7, 8]\n",
    "result = find_common_elements(list1, list2)\n",
    "print(result)\n"
   ]
  },
  {
   "cell_type": "markdown",
   "id": "3fca1afd",
   "metadata": {},
   "source": [
    "# 12. Implement a function to check if a given string is an anagram of another string."
   ]
  },
  {
   "cell_type": "code",
   "execution_count": 12,
   "id": "f64e6c3a",
   "metadata": {},
   "outputs": [
    {
     "name": "stdout",
     "output_type": "stream",
     "text": [
      "True\n"
     ]
    }
   ],
   "source": [
    "def is_anagram(str1, str2):\n",
    "    # Convert both strings to lowercase\n",
    "    str1 = str1.lower()\n",
    "    str2 = str2.lower()\n",
    "\n",
    "    # Remove whitespace from both strings\n",
    "    str1 = str1.replace(\" \", \"\")\n",
    "    str2 = str2.replace(\" \", \"\")\n",
    "\n",
    "    # Check if the lengths of the strings are equal\n",
    "    if len(str1) != len(str2):\n",
    "        return False\n",
    "\n",
    "    # Create dictionaries to store character counts\n",
    "    char_count_1 = {}\n",
    "    char_count_2 = {}\n",
    "\n",
    "    # Count the frequency of characters in str1\n",
    "    for char in str1:\n",
    "        char_count_1[char] = char_count_1.get(char, 0) + 1\n",
    "\n",
    "    # Count the frequency of characters in str2\n",
    "    for char in str2:\n",
    "        char_count_2[char] = char_count_2.get(char, 0) + 1\n",
    "\n",
    "    # Compare the character counts\n",
    "    if char_count_1 == char_count_2:\n",
    "        return True\n",
    "    else:\n",
    "        return False\n",
    "\n",
    "# Example usage:\n",
    "str1 = \"listen\"\n",
    "str2 = \"silent\"\n",
    "result = is_anagram(str1, str2)\n",
    "print(result)\n"
   ]
  },
  {
   "cell_type": "markdown",
   "id": "f372415f",
   "metadata": {},
   "source": [
    "# 13. Write a Python program to generate all permutations of a given string.\n",
    "\n"
   ]
  },
  {
   "cell_type": "code",
   "execution_count": 13,
   "id": "77545456",
   "metadata": {},
   "outputs": [
    {
     "name": "stdout",
     "output_type": "stream",
     "text": [
      "['abc', 'acb', 'bac', 'bca', 'cab', 'cba']\n"
     ]
    }
   ],
   "source": [
    "import itertools\n",
    "\n",
    "def get_permutations(string):\n",
    "    # Use itertools.permutations to generate all permutations\n",
    "    perms = list(itertools.permutations(string))\n",
    "    \n",
    "    # Convert permutations from tuples to strings\n",
    "    perms = [''.join(perm) for perm in perms]\n",
    "    \n",
    "    return perms\n",
    "\n",
    "# Example usage:\n",
    "string = \"abc\"\n",
    "permutations = get_permutations(string)\n",
    "print(permutations)\n"
   ]
  },
  {
   "cell_type": "markdown",
   "id": "7cdaf277",
   "metadata": {},
   "source": [
    "# 14. Implement a function to calculate the Fibonacci sequence up to a given number of terms.\n"
   ]
  },
  {
   "cell_type": "code",
   "execution_count": 14,
   "id": "91eeb588",
   "metadata": {},
   "outputs": [
    {
     "name": "stdout",
     "output_type": "stream",
     "text": [
      "[0, 1, 1, 2, 3, 5, 8, 13, 21, 34]\n"
     ]
    }
   ],
   "source": [
    "def fibonacci(n):\n",
    "    # Base cases\n",
    "    if n <= 0:\n",
    "        return []\n",
    "    elif n == 1:\n",
    "        return [0]\n",
    "    elif n == 2:\n",
    "        return [0, 1]\n",
    "    \n",
    "    # Generate Fibonacci sequence\n",
    "    fib_seq = [0, 1]\n",
    "    while len(fib_seq) < n:\n",
    "        next_num = fib_seq[-1] + fib_seq[-2]\n",
    "        fib_seq.append(next_num)\n",
    "    \n",
    "    return fib_seq\n",
    "\n",
    "# Example usage:\n",
    "n = 10\n",
    "fib_seq = fibonacci(n)\n",
    "print(fib_seq)\n"
   ]
  },
  {
   "cell_type": "markdown",
   "id": "d633f2ec",
   "metadata": {},
   "source": [
    "# 15. Write a program to find the median of a list of numbers.\n"
   ]
  },
  {
   "cell_type": "code",
   "execution_count": 15,
   "id": "52fc708d",
   "metadata": {},
   "outputs": [
    {
     "name": "stdout",
     "output_type": "stream",
     "text": [
      "5\n"
     ]
    }
   ],
   "source": [
    "def find_median(numbers):\n",
    "    sorted_numbers = sorted(numbers)\n",
    "    n = len(sorted_numbers)\n",
    "    \n",
    "    if n % 2 == 0:\n",
    "        # If the number of elements is even, median is the average of the middle two numbers\n",
    "        mid_index1 = n // 2 - 1\n",
    "        mid_index2 = n // 2\n",
    "        median = (sorted_numbers[mid_index1] + sorted_numbers[mid_index2]) / 2\n",
    "    else:\n",
    "        # If the number of elements is odd, median is the middle number\n",
    "        mid_index = n // 2\n",
    "        median = sorted_numbers[mid_index]\n",
    "    \n",
    "    return median\n",
    "\n",
    "# Example usage:\n",
    "numbers = [5, 2, 9, 1, 7, 6, 3]\n",
    "median = find_median(numbers)\n",
    "print(median)\n"
   ]
  },
  {
   "cell_type": "markdown",
   "id": "f1493d60",
   "metadata": {},
   "source": [
    "# 16. Implement a function to check if a given list is sorted in non-decreasing order.\n"
   ]
  },
  {
   "cell_type": "code",
   "execution_count": 16,
   "id": "70dcbaab",
   "metadata": {},
   "outputs": [
    {
     "name": "stdout",
     "output_type": "stream",
     "text": [
      "True\n",
      "False\n"
     ]
    }
   ],
   "source": [
    "def is_sorted(nums):\n",
    "    n = len(nums)\n",
    "    \n",
    "    for i in range(1, n):\n",
    "        if nums[i] < nums[i-1]:\n",
    "            return False\n",
    "    \n",
    "    return True\n",
    "\n",
    "# Example usage:\n",
    "numbers1 = [1, 2, 3, 4, 5]\n",
    "numbers2 = [3, 1, 5, 2, 4]\n",
    "\n",
    "print(is_sorted(numbers1))  # Output: True\n",
    "print(is_sorted(numbers2))  # Output: False\n"
   ]
  },
  {
   "cell_type": "markdown",
   "id": "65f2c762",
   "metadata": {},
   "source": [
    "# 17. Write a Python program to find the intersection of two lists.\n"
   ]
  },
  {
   "cell_type": "code",
   "execution_count": 17,
   "id": "7bb530c6",
   "metadata": {},
   "outputs": [
    {
     "name": "stdout",
     "output_type": "stream",
     "text": [
      "[4, 5]\n"
     ]
    }
   ],
   "source": [
    "def find_intersection(list1, list2):\n",
    "    set1 = set(list1)\n",
    "    set2 = set(list2)\n",
    "    \n",
    "    intersection = set1.intersection(set2)\n",
    "    \n",
    "    return list(intersection)\n",
    "\n",
    "# Example usage:\n",
    "numbers1 = [1, 2, 3, 4, 5]\n",
    "numbers2 = [4, 5, 6, 7, 8]\n",
    "\n",
    "intersection = find_intersection(numbers1, numbers2)\n",
    "print(intersection)  # Output: [4, 5]\n"
   ]
  },
  {
   "cell_type": "markdown",
   "id": "63ddb533",
   "metadata": {},
   "source": [
    "# 18. Implement a function to find the maximum subarray sum in a given list.\n"
   ]
  },
  {
   "cell_type": "code",
   "execution_count": 18,
   "id": "98aa9bb7",
   "metadata": {},
   "outputs": [
    {
     "name": "stdout",
     "output_type": "stream",
     "text": [
      "6\n"
     ]
    }
   ],
   "source": [
    "def max_subarray_sum(arr):\n",
    "    if not arr:\n",
    "        return 0\n",
    "\n",
    "    max_sum = float('-inf')\n",
    "    current_sum = 0\n",
    "\n",
    "    for num in arr:\n",
    "        current_sum = max(num, current_sum + num)\n",
    "        max_sum = max(max_sum, current_sum)\n",
    "\n",
    "    return max_sum\n",
    "\n",
    "# Example usage:\n",
    "numbers = [-2, 1, -3, 4, -1, 2, 1, -5, 4]\n",
    "result = max_subarray_sum(numbers)\n",
    "print(result)  # Output: 6\n"
   ]
  },
  {
   "cell_type": "markdown",
   "id": "4fe7d3c2",
   "metadata": {},
   "source": [
    "# 19. Write a program to remove all vowels from a given string.\n"
   ]
  },
  {
   "cell_type": "code",
   "execution_count": 19,
   "id": "99761527",
   "metadata": {},
   "outputs": [
    {
     "name": "stdout",
     "output_type": "stream",
     "text": [
      "Hll, Wrld!\n"
     ]
    }
   ],
   "source": [
    "def remove_vowels(string):\n",
    "    vowels = ['a', 'e', 'i', 'o', 'u', 'A', 'E', 'I', 'O', 'U']\n",
    "    result = \"\"\n",
    "    for char in string:\n",
    "        if char not in vowels:\n",
    "            result += char\n",
    "    return result\n",
    "\n",
    "# Example usage:\n",
    "input_string = \"Hello, World!\"\n",
    "output_string = remove_vowels(input_string)\n",
    "print(output_string)  # Output: \"Hll, Wrld!\"\n"
   ]
  },
  {
   "cell_type": "markdown",
   "id": "8465b673",
   "metadata": {},
   "source": [
    "# 20. Implement a function to reverse the order of words in a given sentence.\n"
   ]
  },
  {
   "cell_type": "code",
   "execution_count": 20,
   "id": "cbf63741",
   "metadata": {},
   "outputs": [
    {
     "name": "stdout",
     "output_type": "stream",
     "text": [
      "Python. to Welcome World! Hello,\n"
     ]
    }
   ],
   "source": [
    "def reverse_words(sentence):\n",
    "    words = sentence.split()  # Split the sentence into a list of words\n",
    "    reversed_sentence = \" \".join(words[::-1])  # Reverse the order of words and join them back into a sentence\n",
    "    return reversed_sentence\n",
    "\n",
    "# Example usage:\n",
    "input_sentence = \"Hello, World! Welcome to Python.\"\n",
    "output_sentence = reverse_words(input_sentence)\n",
    "print(output_sentence)  # Output: \"Python. to Welcome World! Hello,\"\n"
   ]
  },
  {
   "cell_type": "markdown",
   "id": "471ec399",
   "metadata": {},
   "source": [
    "# 21. Write a Python program to check if two strings are anagrams of each other.\n"
   ]
  },
  {
   "cell_type": "code",
   "execution_count": 21,
   "id": "cf96e582",
   "metadata": {},
   "outputs": [
    {
     "name": "stdout",
     "output_type": "stream",
     "text": [
      "The strings are anagrams.\n"
     ]
    }
   ],
   "source": [
    "def are_anagrams(str1, str2):\n",
    "    # Remove whitespace and convert strings to lowercase\n",
    "    str1 = str1.replace(\" \", \"\").lower()\n",
    "    str2 = str2.replace(\" \", \"\").lower()\n",
    "\n",
    "    # Sort the strings and compare them\n",
    "    return sorted(str1) == sorted(str2)\n",
    "\n",
    "# Example usage:\n",
    "string1 = \"listen\"\n",
    "string2 = \"silent\"\n",
    "if are_anagrams(string1, string2):\n",
    "    print(\"The strings are anagrams.\")\n",
    "else:\n",
    "    print(\"The strings are not anagrams.\")\n"
   ]
  },
  {
   "cell_type": "markdown",
   "id": "96dda222",
   "metadata": {},
   "source": [
    "# 22. Implement a function to find the first non-repeating character in a string.\n"
   ]
  },
  {
   "cell_type": "code",
   "execution_count": 22,
   "id": "0c435752",
   "metadata": {},
   "outputs": [
    {
     "name": "stdout",
     "output_type": "stream",
     "text": [
      "The first non-repeating character is: h\n"
     ]
    }
   ],
   "source": [
    "def first_non_repeating_character(string):\n",
    "    # Initialize a dictionary to store character counts\n",
    "    char_counts = {}\n",
    "\n",
    "    # Count the occurrence of each character in the string\n",
    "    for char in string:\n",
    "        char_counts[char] = char_counts.get(char, 0) + 1\n",
    "\n",
    "    # Iterate through the string and return the first non-repeating character\n",
    "    for char in string:\n",
    "        if char_counts[char] == 1:\n",
    "            return char\n",
    "\n",
    "    # If no non-repeating character is found, return None\n",
    "    return None\n",
    "\n",
    "# Example usage:\n",
    "input_string = \"hello world\"\n",
    "result = first_non_repeating_character(input_string)\n",
    "if result is not None:\n",
    "    print(\"The first non-repeating character is:\", result)\n",
    "else:\n",
    "    print(\"No non-repeating character found.\")\n"
   ]
  },
  {
   "cell_type": "markdown",
   "id": "4cc05398",
   "metadata": {},
   "source": [
    "# 23. Write a program to find the prime factors of a given number.\n"
   ]
  },
  {
   "cell_type": "code",
   "execution_count": 23,
   "id": "397351d3",
   "metadata": {},
   "outputs": [
    {
     "name": "stdout",
     "output_type": "stream",
     "text": [
      "Prime factors of 84 are: [2, 2, 3, 7]\n"
     ]
    }
   ],
   "source": [
    "def find_prime_factors(n):\n",
    "    prime_factors = []  # List to store the prime factors\n",
    "\n",
    "    # Check for the factor 2 and divide the number until it's no longer divisible by 2\n",
    "    while n % 2 == 0:\n",
    "        prime_factors.append(2)\n",
    "        n //= 2\n",
    "\n",
    "    # Check for the remaining odd factors starting from 3\n",
    "    i = 3\n",
    "    while i * i <= n:\n",
    "        if n % i == 0:\n",
    "            prime_factors.append(i)\n",
    "            n //= i\n",
    "        else:\n",
    "            i += 2\n",
    "\n",
    "    # If the remaining number is greater than 2, it is a prime factor itself\n",
    "    if n > 2:\n",
    "        prime_factors.append(n)\n",
    "\n",
    "    return prime_factors\n",
    "\n",
    "# Example usage:\n",
    "num = 84\n",
    "factors = find_prime_factors(num)\n",
    "print(\"Prime factors of\", num, \"are:\", factors)\n"
   ]
  },
  {
   "cell_type": "markdown",
   "id": "c743d852",
   "metadata": {},
   "source": [
    "# 24. Implement a function to check if a given number is a power of two.\n"
   ]
  },
  {
   "cell_type": "code",
   "execution_count": 24,
   "id": "13fe06d1",
   "metadata": {},
   "outputs": [
    {
     "name": "stdout",
     "output_type": "stream",
     "text": [
      "16 is a power of two: True\n",
      "17 is a power of two: False\n"
     ]
    }
   ],
   "source": [
    "def is_power_of_two(n):\n",
    "    if n <= 0:\n",
    "        return False\n",
    "    return n & (n - 1) == 0\n",
    "\n",
    "# Example usage:\n",
    "num1 = 16\n",
    "print(num1, \"is a power of two:\", is_power_of_two(num1))\n",
    "\n",
    "num2 = 17\n",
    "print(num2, \"is a power of two:\", is_power_of_two(num2))\n"
   ]
  },
  {
   "cell_type": "markdown",
   "id": "67c3bf27",
   "metadata": {},
   "source": [
    "# 25. Write a Python program to merge two sorted lists into a single sorted list.\n"
   ]
  },
  {
   "cell_type": "code",
   "execution_count": 25,
   "id": "c32b08aa",
   "metadata": {},
   "outputs": [
    {
     "name": "stdout",
     "output_type": "stream",
     "text": [
      "Merged list: [1, 2, 3, 4, 5, 6, 7, 8]\n"
     ]
    }
   ],
   "source": [
    "def merge_sorted_lists(list1, list2):\n",
    "    merged_list = []\n",
    "    pointer1 = 0\n",
    "    pointer2 = 0\n",
    "\n",
    "    while pointer1 < len(list1) and pointer2 < len(list2):\n",
    "        if list1[pointer1] <= list2[pointer2]:\n",
    "            merged_list.append(list1[pointer1])\n",
    "            pointer1 += 1\n",
    "        else:\n",
    "            merged_list.append(list2[pointer2])\n",
    "            pointer2 += 1\n",
    "\n",
    "    # Append remaining elements from list1, if any\n",
    "    while pointer1 < len(list1):\n",
    "        merged_list.append(list1[pointer1])\n",
    "        pointer1 += 1\n",
    "\n",
    "    # Append remaining elements from list2, if any\n",
    "    while pointer2 < len(list2):\n",
    "        merged_list.append(list2[pointer2])\n",
    "        pointer2 += 1\n",
    "\n",
    "    return merged_list\n",
    "\n",
    "# Example usage:\n",
    "list1 = [1, 3, 5, 7]\n",
    "list2 = [2, 4, 6, 8]\n",
    "merged = merge_sorted_lists(list1, list2)\n",
    "print(\"Merged list:\", merged)\n"
   ]
  },
  {
   "cell_type": "markdown",
   "id": "95ba96b2",
   "metadata": {},
   "source": [
    "# 26. Implement a function to find the mode of a list of numbers.\n"
   ]
  },
  {
   "cell_type": "code",
   "execution_count": 26,
   "id": "5fadb5e5",
   "metadata": {},
   "outputs": [
    {
     "name": "stdout",
     "output_type": "stream",
     "text": [
      "The mode(s) of the list: [4]\n"
     ]
    }
   ],
   "source": [
    "from collections import Counter\n",
    "\n",
    "def find_mode(numbers):\n",
    "    # Count the occurrences of each number\n",
    "    count = Counter(numbers)\n",
    "\n",
    "    # Find the maximum occurrence\n",
    "    max_count = max(count.values())\n",
    "\n",
    "    # Find all numbers with the maximum occurrence (the mode(s))\n",
    "    mode = [number for number, freq in count.items() if freq == max_count]\n",
    "\n",
    "    return mode\n",
    "\n",
    "# Example usage:\n",
    "input_numbers = [1, 2, 3, 4, 2, 3, 4, 4, 5]\n",
    "mode = find_mode(input_numbers)\n",
    "print(f\"The mode(s) of the list: {mode}\")\n"
   ]
  },
  {
   "cell_type": "markdown",
   "id": "5ea5cb62",
   "metadata": {},
   "source": [
    "# 27. Write a program to find the greatest common divisor (GCD) of two numbers.\n"
   ]
  },
  {
   "cell_type": "code",
   "execution_count": 27,
   "id": "2fe7543b",
   "metadata": {},
   "outputs": [
    {
     "name": "stdout",
     "output_type": "stream",
     "text": [
      "The GCD of 36 and 48 is: 12\n"
     ]
    }
   ],
   "source": [
    "def find_gcd(a, b):\n",
    "    while b != 0:\n",
    "        a, b = b, a % b\n",
    "    return a\n",
    "\n",
    "# Example usage:\n",
    "num1 = 36\n",
    "num2 = 48\n",
    "gcd = find_gcd(num1, num2)\n",
    "print(f\"The GCD of {num1} and {num2} is: {gcd}\")\n"
   ]
  },
  {
   "cell_type": "markdown",
   "id": "8cf979e6",
   "metadata": {},
   "source": [
    "# 28. Implement a function to calculate the square root of a given number.\n"
   ]
  },
  {
   "cell_type": "code",
   "execution_count": 28,
   "id": "e230a04d",
   "metadata": {},
   "outputs": [
    {
     "name": "stdout",
     "output_type": "stream",
     "text": [
      "The square root of 25 is: 5\n"
     ]
    }
   ],
   "source": [
    "def square_root(num):\n",
    "    if num < 0:\n",
    "        raise ValueError(\"Square root is not defined for negative numbers.\")\n",
    "    \n",
    "    if num == 0:\n",
    "        return 0\n",
    "\n",
    "    # Set the initial boundaries for the binary search\n",
    "    left = 0\n",
    "    right = num\n",
    "    \n",
    "    # Binary search loop\n",
    "    while left <= right:\n",
    "        mid = (left + right) // 2\n",
    "        mid_square = mid * mid\n",
    "        \n",
    "        # Check if mid is the square root\n",
    "        if mid_square == num:\n",
    "            return mid\n",
    "        # If mid_square is smaller, search in the right half\n",
    "        elif mid_square < num:\n",
    "            left = mid + 1\n",
    "        # If mid_square is larger, search in the left half\n",
    "        else:\n",
    "            right = mid - 1\n",
    "    \n",
    "    # When the binary search ends, return the integer part of the square root\n",
    "    return right\n",
    "\n",
    "# Example usage:\n",
    "num = 25\n",
    "sqrt = square_root(num)\n",
    "print(f\"The square root of {num} is: {sqrt}\")\n"
   ]
  },
  {
   "cell_type": "markdown",
   "id": "234f85ba",
   "metadata": {},
   "source": [
    "# 29. Write a Python program to check if a given string is a valid palindrome ignoring non-alphanumeric characters.\n"
   ]
  },
  {
   "cell_type": "code",
   "execution_count": 29,
   "id": "2fe9ce81",
   "metadata": {},
   "outputs": [
    {
     "name": "stdout",
     "output_type": "stream",
     "text": [
      "Is 'A man, a plan, a canal: Panama' a valid palindrome? True\n",
      "Is 'race a car' a valid palindrome? False\n"
     ]
    }
   ],
   "source": [
    "import re\n",
    "\n",
    "def is_valid_palindrome(s):\n",
    "    # Remove non-alphanumeric characters using regular expressions\n",
    "    s = re.sub(r'[^a-zA-Z0-9]', '', s)\n",
    "    \n",
    "    # Convert the string to lowercase\n",
    "    s = s.lower()\n",
    "    \n",
    "    # Check if the string is equal to its reverse\n",
    "    return s == s[::-1]\n",
    "\n",
    "# Example usage:\n",
    "string1 = \"A man, a plan, a canal: Panama\"\n",
    "print(f\"Is '{string1}' a valid palindrome? {is_valid_palindrome(string1)}\")\n",
    "\n",
    "string2 = \"race a car\"\n",
    "print(f\"Is '{string2}' a valid palindrome? {is_valid_palindrome(string2)}\")\n"
   ]
  },
  {
   "cell_type": "markdown",
   "id": "9d0ed6ba",
   "metadata": {},
   "source": [
    "# 30. Implement a function to find the minimum element in a rotated sorted list.\n"
   ]
  },
  {
   "cell_type": "code",
   "execution_count": 30,
   "id": "30f238af",
   "metadata": {},
   "outputs": [
    {
     "name": "stdout",
     "output_type": "stream",
     "text": [
      "Minimum element: 0\n",
      "Minimum element: 1\n"
     ]
    }
   ],
   "source": [
    "def find_minimum(nums):\n",
    "    left = 0\n",
    "    right = len(nums) - 1\n",
    "\n",
    "    while left < right:\n",
    "        mid = left + (right - left) // 2\n",
    "\n",
    "        # Check if the middle element is greater than the last element\n",
    "        if nums[mid] > nums[right]:\n",
    "            # Minimum element is in the right half\n",
    "            left = mid + 1\n",
    "        else:\n",
    "            # Minimum element is in the left half or mid itself\n",
    "            right = mid\n",
    "\n",
    "    # At this point, left and right will be pointing to the minimum element\n",
    "    return nums[left]\n",
    "\n",
    "# Example usage:\n",
    "nums1 = [4, 5, 6, 7, 0, 1, 2]\n",
    "print(\"Minimum element:\", find_minimum(nums1))\n",
    "\n",
    "nums2 = [3, 4, 5, 1, 2]\n",
    "print(\"Minimum element:\", find_minimum(nums2))\n"
   ]
  },
  {
   "cell_type": "markdown",
   "id": "0c50a4d5",
   "metadata": {},
   "source": [
    "# 31. Write a program to find the sum of all even numbers in a list.\n"
   ]
  },
  {
   "cell_type": "code",
   "execution_count": 31,
   "id": "1b139355",
   "metadata": {},
   "outputs": [
    {
     "name": "stdout",
     "output_type": "stream",
     "text": [
      "Sum of even numbers: 30\n"
     ]
    }
   ],
   "source": [
    "def sum_of_even_numbers(nums):\n",
    "    sum_even = 0\n",
    "\n",
    "    for num in nums:\n",
    "        if num % 2 == 0:\n",
    "            sum_even += num\n",
    "\n",
    "    return sum_even\n",
    "\n",
    "# Example usage:\n",
    "numbers = [1, 2, 3, 4, 5, 6, 7, 8, 9, 10]\n",
    "print(\"Sum of even numbers:\", sum_of_even_numbers(numbers))\n"
   ]
  },
  {
   "cell_type": "markdown",
   "id": "ad251325",
   "metadata": {},
   "source": [
    "# 32. Implement a function to calculate the power of a number using recursion.\n"
   ]
  },
  {
   "cell_type": "code",
   "execution_count": 32,
   "id": "3f8f9d02",
   "metadata": {},
   "outputs": [
    {
     "name": "stdout",
     "output_type": "stream",
     "text": [
      "2 raised to the power of 5 is 32\n"
     ]
    }
   ],
   "source": [
    "def power(base, exponent):\n",
    "    # Base case: if exponent is 0, return 1\n",
    "    if exponent == 0:\n",
    "        return 1\n",
    "    # Recursive case: multiply base by power(base, exponent-1)\n",
    "    else:\n",
    "        return base * power(base, exponent - 1)\n",
    "\n",
    "# Example usage:\n",
    "base = 2\n",
    "exponent = 5\n",
    "result = power(base, exponent)\n",
    "print(f\"{base} raised to the power of {exponent} is {result}\")\n"
   ]
  },
  {
   "cell_type": "markdown",
   "id": "4bd16bea",
   "metadata": {},
   "source": [
    "# 33. Write a Python program to remove duplicates from a list while preserving the order.\n"
   ]
  },
  {
   "cell_type": "code",
   "execution_count": 33,
   "id": "19a13a7c",
   "metadata": {},
   "outputs": [
    {
     "name": "stdout",
     "output_type": "stream",
     "text": [
      "List with duplicates: [1, 2, 3, 2, 4, 1, 5, 3]\n",
      "List without duplicates: [1, 2, 3, 4, 5]\n"
     ]
    }
   ],
   "source": [
    "def remove_duplicates(lst):\n",
    "    # Set to store unique elements\n",
    "    unique_elements = set()\n",
    "    # List to store result\n",
    "    result = []\n",
    "    # Iterate over the elements of the list\n",
    "    for element in lst:\n",
    "        # Check if the element is already encountered\n",
    "        if element not in unique_elements:\n",
    "            # Add the element to the set and result list\n",
    "            unique_elements.add(element)\n",
    "            result.append(element)\n",
    "    return result\n",
    "\n",
    "# Example usage:\n",
    "lst = [1, 2, 3, 2, 4, 1, 5, 3]\n",
    "result = remove_duplicates(lst)\n",
    "print(\"List with duplicates:\", lst)\n",
    "print(\"List without duplicates:\", result)\n"
   ]
  },
  {
   "cell_type": "markdown",
   "id": "f4596470",
   "metadata": {},
   "source": [
    "# 34. Implement a function to find the longest common prefix among a list of strings.\n"
   ]
  },
  {
   "cell_type": "code",
   "execution_count": 34,
   "id": "1af8c920",
   "metadata": {},
   "outputs": [
    {
     "name": "stdout",
     "output_type": "stream",
     "text": [
      "List of strings: ['flower', 'flow', 'flight']\n",
      "Longest common prefix: fl\n"
     ]
    }
   ],
   "source": [
    "def longest_common_prefix(strings):\n",
    "    # Handle empty input\n",
    "    if not strings:\n",
    "        return \"\"\n",
    "\n",
    "    # Find the shortest string in the list\n",
    "    shortest_string = min(strings, key=len)\n",
    "\n",
    "    # Iterate over the characters at each index position\n",
    "    for i, char in enumerate(shortest_string):\n",
    "        # Check if the character matches across all strings\n",
    "        if any(string[i] != char for string in strings):\n",
    "            # Mismatch found, return the prefix up to this point\n",
    "            return shortest_string[:i]\n",
    "\n",
    "    # All characters match, return the entire shortest string\n",
    "    return shortest_string\n",
    "\n",
    "# Example usage:\n",
    "strings = [\"flower\", \"flow\", \"flight\"]\n",
    "result = longest_common_prefix(strings)\n",
    "print(\"List of strings:\", strings)\n",
    "print(\"Longest common prefix:\", result)\n"
   ]
  },
  {
   "cell_type": "markdown",
   "id": "8f63adcb",
   "metadata": {},
   "source": [
    "# 35. Write a program to check if a given number is a perfect square.\n"
   ]
  },
  {
   "cell_type": "code",
   "execution_count": 35,
   "id": "a5f78e9c",
   "metadata": {},
   "outputs": [
    {
     "name": "stdout",
     "output_type": "stream",
     "text": [
      "Number: 25\n",
      "Is a perfect square? True\n"
     ]
    }
   ],
   "source": [
    "def is_perfect_square(num):\n",
    "    # Handle negative numbers\n",
    "    if num < 0:\n",
    "        return False\n",
    "\n",
    "    # Find the square root of the number\n",
    "    sqrt = int(num ** 0.5)\n",
    "\n",
    "    # Check if the square root is an integer\n",
    "    return sqrt * sqrt == num\n",
    "\n",
    "# Example usage:\n",
    "number = 25\n",
    "result = is_perfect_square(number)\n",
    "print(\"Number:\", number)\n",
    "print(\"Is a perfect square?\", result)\n"
   ]
  },
  {
   "cell_type": "markdown",
   "id": "83f725f8",
   "metadata": {},
   "source": [
    "# 36. Implement a function to calculate the product of all elements in a list.\n"
   ]
  },
  {
   "cell_type": "code",
   "execution_count": 36,
   "id": "6ccbfca4",
   "metadata": {},
   "outputs": [
    {
     "name": "stdout",
     "output_type": "stream",
     "text": [
      "Numbers: [2, 3, 4, 5]\n",
      "Product: 120\n"
     ]
    }
   ],
   "source": [
    "def calculate_product(lst):\n",
    "    product = 1\n",
    "    for num in lst:\n",
    "        product *= num\n",
    "    return product\n",
    "\n",
    "# Example usage:\n",
    "numbers = [2, 3, 4, 5]\n",
    "result = calculate_product(numbers)\n",
    "print(\"Numbers:\", numbers)\n",
    "print(\"Product:\", result)\n"
   ]
  },
  {
   "cell_type": "markdown",
   "id": "22058b6a",
   "metadata": {},
   "source": [
    "# 37. Write a Python program to reverse the order of words in a sentence while preserving the word order.\n"
   ]
  },
  {
   "cell_type": "code",
   "execution_count": 37,
   "id": "7c753895",
   "metadata": {},
   "outputs": [
    {
     "name": "stdout",
     "output_type": "stream",
     "text": [
      "Original sentence: Hello, how are you?\n",
      "Reversed sentence: you? are how Hello,\n"
     ]
    }
   ],
   "source": [
    "def reverse_sentence(sentence):\n",
    "    words = sentence.split()  # Split the sentence into words\n",
    "    reversed_words = words[::-1]  # Reverse the order of words\n",
    "    reversed_sentence = ' '.join(reversed_words)  # Join the reversed words with spaces\n",
    "    return reversed_sentence\n",
    "\n",
    "# Example usage:\n",
    "sentence = \"Hello, how are you?\"\n",
    "reversed_sentence = reverse_sentence(sentence)\n",
    "print(\"Original sentence:\", sentence)\n",
    "print(\"Reversed sentence:\", reversed_sentence)\n"
   ]
  },
  {
   "cell_type": "markdown",
   "id": "e06f23f3",
   "metadata": {},
   "source": [
    "# 38. Implement a function to find the missing number in a given list of consecutive numbers.\n"
   ]
  },
  {
   "cell_type": "code",
   "execution_count": 38,
   "id": "be7e3f2a",
   "metadata": {},
   "outputs": [
    {
     "name": "stdout",
     "output_type": "stream",
     "text": [
      "Missing number: 4\n"
     ]
    }
   ],
   "source": [
    "def find_missing_number(nums):\n",
    "    n = len(nums) + 1  # The expected length of the list with the missing number\n",
    "    expected_sum = (n * (nums[0] + nums[-1])) // 2  # Calculate the expected sum of the consecutive numbers\n",
    "    actual_sum = sum(nums)  # Calculate the actual sum of the given list\n",
    "    missing_number = expected_sum - actual_sum  # Subtract the actual sum from the expected sum to find the missing number\n",
    "    return missing_number\n",
    "\n",
    "# Example usage:\n",
    "nums = [1, 2, 3, 5, 6, 7, 8]\n",
    "missing_number = find_missing_number(nums)\n",
    "print(\"Missing number:\", missing_number)\n"
   ]
  },
  {
   "cell_type": "markdown",
   "id": "d646e0d9",
   "metadata": {},
   "source": [
    "# 39. Write a program to find the sum of digits of a given number.\n"
   ]
  },
  {
   "cell_type": "code",
   "execution_count": 39,
   "id": "5ac29ddc",
   "metadata": {},
   "outputs": [
    {
     "name": "stdout",
     "output_type": "stream",
     "text": [
      "Sum of digits: 15\n"
     ]
    }
   ],
   "source": [
    "def sum_of_digits(number):\n",
    "    sum = 0\n",
    "    while number > 0:\n",
    "        digit = number % 10  # Extract the last digit\n",
    "        sum += digit  # Add the digit to the sum\n",
    "        number //= 10  # Remove the last digit\n",
    "    return sum\n",
    "\n",
    "# Example usage:\n",
    "number = 12345\n",
    "digit_sum = sum_of_digits(number)\n",
    "print(\"Sum of digits:\", digit_sum)\n"
   ]
  },
  {
   "cell_type": "markdown",
   "id": "3790e5a2",
   "metadata": {},
   "source": [
    "# 40. Implement a function to check if a given string is a valid palindrome considering case sensitivity.\n"
   ]
  },
  {
   "cell_type": "code",
   "execution_count": 40,
   "id": "8598e338",
   "metadata": {},
   "outputs": [
    {
     "name": "stdout",
     "output_type": "stream",
     "text": [
      "Is palindrome: True\n"
     ]
    }
   ],
   "source": [
    "def is_valid_palindrome(string):\n",
    "    reversed_string = string[::-1]  # Reverse the string\n",
    "    return string == reversed_string\n",
    "\n",
    "# Example usage:\n",
    "string = \"level\"\n",
    "is_palindrome = is_valid_palindrome(string)\n",
    "print(\"Is palindrome:\", is_palindrome)\n"
   ]
  },
  {
   "cell_type": "markdown",
   "id": "d32e8ce3",
   "metadata": {},
   "source": [
    "# 41. Write a Python program to find the smallest missing positive integer in a list.\n"
   ]
  },
  {
   "cell_type": "code",
   "execution_count": 41,
   "id": "ede3894e",
   "metadata": {},
   "outputs": [
    {
     "name": "stdout",
     "output_type": "stream",
     "text": [
      "Smallest missing positive integer: 4\n"
     ]
    }
   ],
   "source": [
    "def find_smallest_missing_positive(nums):\n",
    "    # Create a set to store positive integers\n",
    "    num_set = set(nums)\n",
    "    \n",
    "    # Start from 1 and check if each positive integer exists in the set\n",
    "    num = 1\n",
    "    while num in num_set:\n",
    "        num += 1\n",
    "    \n",
    "    return num\n",
    "\n",
    "# Example usage:\n",
    "nums = [3, 1, -1, 5, 2]\n",
    "smallest_missing = find_smallest_missing_positive(nums)\n",
    "print(\"Smallest missing positive integer:\", smallest_missing)\n"
   ]
  },
  {
   "cell_type": "markdown",
   "id": "b78f4267",
   "metadata": {},
   "source": [
    "# 42. Implement a function to find the longest palindrome substring in a given string.\n"
   ]
  },
  {
   "cell_type": "code",
   "execution_count": 42,
   "id": "257ac20e",
   "metadata": {},
   "outputs": [
    {
     "name": "stdout",
     "output_type": "stream",
     "text": [
      "Longest palindrome substring: aba\n"
     ]
    }
   ],
   "source": [
    "def longest_palindrome_substring(s):\n",
    "    n = len(s)\n",
    "    \n",
    "    # Create a 2D matrix to store palindromic substrings\n",
    "    dp = [[False] * n for _ in range(n)]\n",
    "    \n",
    "    # Initialize variables to track the longest palindrome substring\n",
    "    max_length = 0\n",
    "    start = 0\n",
    "    \n",
    "    # Single characters are palindromes\n",
    "    for i in range(n):\n",
    "        dp[i][i] = True\n",
    "        max_length = 1\n",
    "    \n",
    "    # Check for palindromic substrings of length 2\n",
    "    for i in range(n - 1):\n",
    "        if s[i] == s[i+1]:\n",
    "            dp[i][i+1] = True\n",
    "            max_length = 2\n",
    "            start = i\n",
    "    \n",
    "    # Check for palindromic substrings of length greater than 2\n",
    "    for length in range(3, n+1):\n",
    "        for i in range(n - length + 1):\n",
    "            j = i + length - 1\n",
    "            if s[i] == s[j] and dp[i+1][j-1]:\n",
    "                dp[i][j] = True\n",
    "                max_length = length\n",
    "                start = i\n",
    "    \n",
    "    # Extract the longest palindrome substring\n",
    "    longest_palindrome = s[start:start+max_length]\n",
    "    \n",
    "    return longest_palindrome\n",
    "\n",
    "# Example usage:\n",
    "string = \"babad\"\n",
    "longest_palindrome = longest_palindrome_substring(string)\n",
    "print(\"Longest palindrome substring:\", longest_palindrome)\n"
   ]
  },
  {
   "cell_type": "markdown",
   "id": "813afa14",
   "metadata": {},
   "source": [
    "# 43. Write a program to find the number of occurrences of a given element in a list.\n"
   ]
  },
  {
   "cell_type": "code",
   "execution_count": 43,
   "id": "5f52f45f",
   "metadata": {},
   "outputs": [
    {
     "name": "stdout",
     "output_type": "stream",
     "text": [
      "Number of occurrences of 1 : 4\n"
     ]
    }
   ],
   "source": [
    "def count_occurrences(lst, element):\n",
    "    count = 0\n",
    "    for item in lst:\n",
    "        if item == element:\n",
    "            count += 1\n",
    "    return count\n",
    "\n",
    "# Example usage:\n",
    "numbers = [1, 2, 3, 4, 1, 1, 2, 2, 1]\n",
    "element = 1\n",
    "occurrences = count_occurrences(numbers, element)\n",
    "print(\"Number of occurrences of\", element, \":\", occurrences)\n"
   ]
  },
  {
   "cell_type": "markdown",
   "id": "e95cd9ff",
   "metadata": {},
   "source": [
    "# 44. Implement a function to check if a given number is a perfect number.\n"
   ]
  },
  {
   "cell_type": "code",
   "execution_count": 44,
   "id": "5421e828",
   "metadata": {},
   "outputs": [
    {
     "name": "stdout",
     "output_type": "stream",
     "text": [
      "28 is a perfect number.\n"
     ]
    }
   ],
   "source": [
    "def is_perfect_number(number):\n",
    "    if number <= 0:\n",
    "        return False\n",
    "\n",
    "    divisor_sum = 0\n",
    "    for i in range(1, number):\n",
    "        if number % i == 0:\n",
    "            divisor_sum += i\n",
    "\n",
    "    return divisor_sum == number\n",
    "\n",
    "# Example usage:\n",
    "num = 28\n",
    "if is_perfect_number(num):\n",
    "    print(num, \"is a perfect number.\")\n",
    "else:\n",
    "    print(num, \"is not a perfect number.\")\n"
   ]
  },
  {
   "cell_type": "markdown",
   "id": "386bd2ce",
   "metadata": {},
   "source": [
    "# 45. Write a Python program to remove all duplicates from a string.\n"
   ]
  },
  {
   "cell_type": "code",
   "execution_count": 45,
   "id": "7cf5d0a5",
   "metadata": {},
   "outputs": [
    {
     "name": "stdout",
     "output_type": "stream",
     "text": [
      "hloe\n"
     ]
    }
   ],
   "source": [
    "def remove_duplicates(string):\n",
    "    # Convert the string to a set to remove duplicates\n",
    "    unique_chars = set(string)\n",
    "\n",
    "    # Convert the set back to a string\n",
    "    result = ''.join(unique_chars)\n",
    "\n",
    "    return result\n",
    "\n",
    "# Example usage:\n",
    "input_string = \"hello\"\n",
    "result_string = remove_duplicates(input_string)\n",
    "print(result_string)\n"
   ]
  },
  {
   "cell_type": "markdown",
   "id": "447aff56",
   "metadata": {},
   "source": [
    "# 46. Implement a function to find the first missing positive"
   ]
  },
  {
   "cell_type": "code",
   "execution_count": 46,
   "id": "ffb0167c",
   "metadata": {},
   "outputs": [
    {
     "name": "stdout",
     "output_type": "stream",
     "text": [
      "The first missing positive integer: 2\n"
     ]
    }
   ],
   "source": [
    "def find_first_missing_positive(nums):\n",
    "    n = len(nums)\n",
    "    \n",
    "    # Step 1: Move all non-positive numbers to the left side\n",
    "    i = 0\n",
    "    j = 0\n",
    "    while j < n:\n",
    "        if nums[j] <= 0:\n",
    "            nums[i], nums[j] = nums[j], nums[i]\n",
    "            i += 1\n",
    "        j += 1\n",
    "    \n",
    "    # Step 2: Mark the presence of positive numbers\n",
    "    for num in nums[i:]:\n",
    "        idx = abs(num) - 1\n",
    "        if i + idx < n and nums[i + idx] > 0:\n",
    "            nums[i + idx] = -nums[i + idx]\n",
    "    \n",
    "    # Step 3: Find the first positive number index\n",
    "    for idx, num in enumerate(nums[i:], start=i):\n",
    "        if num > 0:\n",
    "            return idx - i + 1\n",
    "    \n",
    "    # Step 4: All positive numbers found, return the next positive integer\n",
    "    return n - i + 1\n",
    "\n",
    "# Test the function\n",
    "nums = [3, 4, -1, 1]\n",
    "result = find_first_missing_positive(nums)\n",
    "print(\"The first missing positive integer:\", result)\n"
   ]
  },
  {
   "cell_type": "code",
   "execution_count": null,
   "id": "442d4eaa",
   "metadata": {},
   "outputs": [],
   "source": []
  }
 ],
 "metadata": {
  "kernelspec": {
   "display_name": "Python 3 (ipykernel)",
   "language": "python",
   "name": "python3"
  },
  "language_info": {
   "codemirror_mode": {
    "name": "ipython",
    "version": 3
   },
   "file_extension": ".py",
   "mimetype": "text/x-python",
   "name": "python",
   "nbconvert_exporter": "python",
   "pygments_lexer": "ipython3",
   "version": "3.9.7"
  }
 },
 "nbformat": 4,
 "nbformat_minor": 5
}
